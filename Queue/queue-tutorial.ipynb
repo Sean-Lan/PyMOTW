{
 "cells": [
  {
   "cell_type": "markdown",
   "metadata": {},
   "source": [
    "#Queue - A thread-safe FIFO implementation\n",
    "\n",
    "Reference from [**PyMOTW**](http://pymotw.com/2/Queue/index.html)\n",
    "\n",
    "The **`Queue`** module provides a FIFO implementattion suitable for multi-threaded programming. It can be used to pass messages or other data between producer and consumer threads safely. Locking is handled for the caller, so it is simple to have as many threads as you want working with the same Queue instance. A Queue's size (numberof elements) may be restricted to throttle memory usage or processing."
   ]
  },
  {
   "cell_type": "markdown",
   "metadata": {},
   "source": [
    "##Basic FIFO Queue\n",
    "The **`Queue`** class implements a basic first-in, first-out container. Elements are added to one \"end\" of the sequence using **`put()`**, and removed from the other end using **`get()`**."
   ]
  },
  {
   "cell_type": "code",
   "execution_count": null,
   "metadata": {
    "collapsed": false
   },
   "outputs": [],
   "source": [
    "import Queue\n",
    "\n",
    "q = Queue.Queue()\n",
    "\n",
    "for i in range(5):\n",
    "    q.put(i)\n",
    "\n",
    "while not q.empty():\n",
    "    print q.get()"
   ]
  },
  {
   "cell_type": "markdown",
   "metadata": {},
   "source": [
    "##LIFO Queue\n",
    "In contrast to the standard FIFO implementation of **`Queue`**, the **`LifoQueue`** uses a last-in, first-out ordering (normally associated with a stack data structure)."
   ]
  },
  {
   "cell_type": "code",
   "execution_count": null,
   "metadata": {
    "collapsed": false
   },
   "outputs": [],
   "source": [
    "import Queue\n",
    "\n",
    "q = Queue.LifoQueue()\n",
    "\n",
    "for i in range(5):\n",
    "    q.put(i)\n",
    "    \n",
    "while not q.empty():\n",
    "    print q.get()"
   ]
  },
  {
   "cell_type": "markdown",
   "metadata": {},
   "source": [
    "##Priority Queue\n",
    "\n",
    "**`PriorityQueue`** uses the sort order of the contents of the queue to decide which to retrieve."
   ]
  },
  {
   "cell_type": "code",
   "execution_count": null,
   "metadata": {
    "collapsed": false
   },
   "outputs": [],
   "source": [
    "import Queue\n",
    "\n",
    "class Job:\n",
    "    def __init__(self, priority, description):\n",
    "        self.priority = priority\n",
    "        self.description = description\n",
    "    \n",
    "    def __cmp__(self, other):\n",
    "        # greater return positive; lesser return neigative; equal return zero\n",
    "        return cmp(self.priority, other.priority)\n",
    "    \n",
    "    def __repr__(self):\n",
    "        return self.description\n",
    "\n",
    "q = Queue.PriorityQueue()\n",
    "q.put( Job(5, 'Mid-Level Job') )\n",
    "q.put( Job(10, 'Low-Level Job') )\n",
    "q.put( Job(1, 'Important Job') )\n",
    "\n",
    "while not q.empty():\n",
    "    job = q.get()\n",
    "    print 'Processing Job: ', job.description"
   ]
  },
  {
   "cell_type": "markdown",
   "metadata": {},
   "source": [
    "##Using Queues with Threads"
   ]
  },
  {
   "cell_type": "code",
   "execution_count": null,
   "metadata": {
    "collapsed": false
   },
   "outputs": [],
   "source": [
    "%load multi-thread-queue.py"
   ]
  },
  {
   "cell_type": "code",
   "execution_count": null,
   "metadata": {
    "collapsed": false
   },
   "outputs": [],
   "source": [
    "from IPython.display import Image\n",
    "Image(filename='images/multi-thread-queue.png')"
   ]
  }
 ],
 "metadata": {
  "kernelspec": {
   "display_name": "Python 2",
   "language": "python",
   "name": "python2"
  },
  "language_info": {
   "codemirror_mode": {
    "name": "ipython",
    "version": 2
   },
   "file_extension": ".py",
   "mimetype": "text/x-python",
   "name": "python",
   "nbconvert_exporter": "python",
   "pygments_lexer": "ipython2",
   "version": "2.7.6"
  }
 },
 "nbformat": 4,
 "nbformat_minor": 0
}
