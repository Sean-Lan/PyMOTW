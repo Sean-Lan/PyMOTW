{
 "cells": [
  {
   "cell_type": "markdown",
   "metadata": {},
   "source": [
    "# Quick Guide to Python re module\n",
    "\n",
    "This post will give a quick guide to the common usages of python `re` module. Python `re` module is mainly comprised of some handy module functions, such as `search`, `match` etc, two useful classes: `RegexObject` for matching and `MatchObject` for the result, and serval constant flags. This post won't detail all the usage and grammar of regular expression; instead, it focuses on how to use the functions and classes `re` offers to achieve our purpose.\n",
    "\n",
    "This post will spend one big section introducing the usage of module funtions, i.e, `search`. Within it, the `MatchObject` is introduced to show how to get the result. After discussing all the search related functions, functions which can perform some modifcation (generate a new string or list, not modify the original) will be visited. For example, `sub` and `subn` for substitution and `split` for spliting string with the pattern.\n",
    "\n",
    "The `RegexObject` contains methods which have similar capability with the module functions. I'll talk about them by examples in the next section."
   ]
  },
  {
   "cell_type": "markdown",
   "metadata": {},
   "source": [
    "## Module Function Usage\n",
    "\n",
    "Module functions can be categorized into two classes. One is for searching, the other is for modifying.\n",
    "\n",
    "### Search Related\n",
    "\n",
    "`search`, `match`, `findall`, `finditer` are four search related functions, and they all accept three arguments: `pattern`, `string` and `flags`.\n",
    "\n",
    "| parameter | description |\n",
    "|-----------|-------------|\n",
    "| pattern   | the regular expression, usually in raw string. i.e, `r'\\d+'` for numbers with one or more digits. |\n",
    "| string    | the string to be searched. |\n",
    "| flags(optional) | some flags to control the search position, search behavior, etc. Multiple flags can be used at the same time, with <code>&#124;</code> operation: i.e, <code>re.I&#124;re.M</code> instructs the search process to ignore cases and let `^` and `$` match the beginning and end of each line. For all the flags, please refer to the python doc. |\n",
    "\n",
    "Both `search` and `match` returns a `MatchObject` if any match is found, and `None` otherwise. However, `match` checks a match at the beginning of the string, while `search` won't:"
   ]
  },
  {
   "cell_type": "code",
   "execution_count": 1,
   "metadata": {
    "collapsed": false
   },
   "outputs": [
    {
     "name": "stdout",
     "output_type": "stream",
     "text": [
      "None\n",
      "<_sre.SRE_Match object at 0x10986a780>\n"
     ]
    }
   ],
   "source": [
    "import re\n",
    "# example from python doc\n",
    "print re.match(\"c\", \"abcdef\")  # No match\n",
    "print re.search(\"c\", \"abcdef\") # Find a match"
   ]
  },
  {
   "cell_type": "markdown",
   "metadata": {},
   "source": [
    "You can force `search` to start at the beginning of the string with `^`:"
   ]
  },
  {
   "cell_type": "code",
   "execution_count": 2,
   "metadata": {
    "collapsed": false
   },
   "outputs": [
    {
     "name": "stdout",
     "output_type": "stream",
     "text": [
      "None\n"
     ]
    }
   ],
   "source": [
    "print re.search(\"^c\", \"abcdef\") # No match"
   ]
  },
  {
   "cell_type": "markdown",
   "metadata": {},
   "source": [
    "However, even in `MULTILINE` mode, `re.match()` still only matches at the beginning of the whole string:"
   ]
  },
  {
   "cell_type": "code",
   "execution_count": 3,
   "metadata": {
    "collapsed": false
   },
   "outputs": [
    {
     "name": "stdout",
     "output_type": "stream",
     "text": [
      "<_sre.SRE_Match object at 0x10986a8b8>\n",
      "None\n"
     ]
    }
   ],
   "source": [
    "print re.search(\"^L\", \"Sean\\nLan\", re.M) # Find a match\n",
    "print re.match(\"^L\", \"Sean\\nLan\", re.M)"
   ]
  },
  {
   "cell_type": "markdown",
   "metadata": {},
   "source": [
    "### Class MatchObject\n",
    "\n",
    "MatchObject always has the boolean value `True` since `None` is returned if no match found, and it's recommended to check whether a match is found before doing any operation:"
   ]
  },
  {
   "cell_type": "code",
   "execution_count": 4,
   "metadata": {
    "collapsed": false
   },
   "outputs": [
    {
     "name": "stdout",
     "output_type": "stream",
     "text": [
      "Find a match: Love\n"
     ]
    }
   ],
   "source": [
    "s = 'Love Vanilla.'\n",
    "m = re.search(r'\\w+', s)\n",
    "if m:\n",
    "    print 'Find a match:', s[m.start(): m.end()]"
   ]
  },
  {
   "cell_type": "markdown",
   "metadata": {},
   "source": [
    "A `MatchObject` instance has the following method:\n",
    "\n",
    "* `expand(template)` will perform backslash substition. Numeric backreferences (i.e, `\\1`, `\\2`) and named backreferences (i.e, `g\\<name>`) will be replaced by the corresponding group.\n",
    "* `group([group1, ...])` will return one or more groups of the match. If there is no arguments, the whole match will be returned. If multiple arguments are present, all the corresponding groups are returned as a tuple. `group(0)` is the whole match and `group(1)`, etc are the subgroups.\n",
    "* `groups()` will return all the subgroups of the match.\n",
    "* `groupdict()` will return a dict of all the named subgroups.\n",
    "* `start([group])` and `end([group])` will return the indices of the start and end of substring matched by `group` and `group` defaults to `0`, which means the whole match.\n",
    "* `span([group])` will return a tuple `(m.start(group), m.end(group))` for MatchObject `m`.\n",
    "\n",
    "The following example covers all the usage of the above methods:"
   ]
  },
  {
   "cell_type": "code",
   "execution_count": 5,
   "metadata": {
    "collapsed": false
   },
   "outputs": [
    {
     "name": "stdout",
     "output_type": "stream",
     "text": [
      "expand():\tSean is the name. Hi, Sean!\n",
      "group():\tHello, Sean.\n",
      "group(0):\tHello, Sean.\n",
      "group(1):\tHello\n",
      "group(0, 1):\t('Hello, Sean.', 'Hello')\n",
      "groups():\t('Hello', 'Sean')\n",
      "groupdict():\t{'name': 'Sean'}\n",
      "whole match: \tHello, Sean.\n",
      "group(2): \tSean\n",
      "span(2):\t(7, 11)\n"
     ]
    }
   ],
   "source": [
    "sample_str = 'Hello, Sean.'\n",
    "sample_pattern = r'(\\w+),\\s+(?P<name>\\w+).'\n",
    "\n",
    "match = re.search(sample_pattern, sample_str)\n",
    "if match:\n",
    "    print 'expand():\\t', match.expand(r'\\2 is the name. Hi, \\g<name>!')\n",
    "    print 'group():\\t', match.group()\n",
    "    print 'group(0):\\t', match.group(0)\n",
    "    print 'group(1):\\t', match.group(1)\n",
    "    print 'group(0, 1):\\t', match.group(0, 1)\n",
    "    print 'groups():\\t', match.groups()\n",
    "    print 'groupdict():\\t', match.groupdict()\n",
    "    print 'whole match: \\t', match.string[match.start():match.end()]\n",
    "    print 'group(2): \\t', match.string[match.start(2):match.end(2)]\n",
    "    print 'span(2):\\t', match.span(2)"
   ]
  },
  {
   "cell_type": "markdown",
   "metadata": {},
   "source": [
    "`finditer` returns an `iterator` yielding `MatchObject` instances over all non-overlapping matches, while `findall` returns a list of all the matching substrings in string or a list of subgroups if one or more groups are present in the pattern."
   ]
  },
  {
   "cell_type": "code",
   "execution_count": 6,
   "metadata": {
    "collapsed": false
   },
   "outputs": [
    {
     "name": "stdout",
     "output_type": "stream",
     "text": [
      "re.findall:\n",
      "[('Stay', 'hungry'), ('Stay', 'foolish')]\n",
      "\n",
      "re.finditer:\n",
      "('Stay', 'hungry')\n",
      "('Stay', 'foolish')\n"
     ]
    }
   ],
   "source": [
    "sample_str = 'Stay hungry. Stay foolish.'\n",
    "sample_pattern = r'(\\w+)\\s+(\\w+).'\n",
    "\n",
    "print 're.findall:'\n",
    "print re.findall(sample_pattern, sample_str)\n",
    "print \n",
    "\n",
    "print 're.finditer:'\n",
    "for m in re.finditer(sample_pattern, sample_str):\n",
    "    print m.groups()"
   ]
  },
  {
   "cell_type": "markdown",
   "metadata": {},
   "source": [
    "### Replace and Split\n",
    "\n",
    "Both `sub` and `subn` have five parametrs: `pattern`, `repl`, `string`, `count`, `flags`, in which `pattern`, `string` and `flags` have the same meaning as those in `search`. `repl` can be a string or a function; if it is a string, any backslash escapes in it are processed, i.e, `\\n` is converted to a single newline character. Backrefences are replaces with the matched value:"
   ]
  },
  {
   "cell_type": "code",
   "execution_count": 7,
   "metadata": {
    "collapsed": false
   },
   "outputs": [
    {
     "name": "stdout",
     "output_type": "stream",
     "text": [
      "Sean, Hello!\n"
     ]
    }
   ],
   "source": [
    "sample_str = 'Hello, Sean.'\n",
    "sample_pattern = r'(\\w+),\\s+(?P<name>\\w+).'\n",
    "sample_repl = r'\\g<name>, \\1!'\n",
    "print re.sub(sample_pattern, sample_repl, sample_str)"
   ]
  },
  {
   "cell_type": "markdown",
   "metadata": {},
   "source": [
    "If repl is a function, it is called for every non-overlapping occurrence of pattern. The function takes a single match object argument, and returns the replacement string. For example:"
   ]
  },
  {
   "cell_type": "code",
   "execution_count": 8,
   "metadata": {
    "collapsed": false
   },
   "outputs": [
    {
     "name": "stdout",
     "output_type": "stream",
     "text": [
      "pro-gram files\n"
     ]
    }
   ],
   "source": [
    "# example from python doc\n",
    "\n",
    "def dashrepl(matchobj):\n",
    "    if matchobj.group(0) == '-': return ' '\n",
    "    else: return '-'\n",
    "    \n",
    "print re.sub(r'-{1,2}', dashrepl, 'pro--gram-files')"
   ]
  },
  {
   "cell_type": "markdown",
   "metadata": {},
   "source": [
    "The `count` argument set the maximun number of substitution, and defaults to `0` (meaning all matches are replaced):"
   ]
  },
  {
   "cell_type": "code",
   "execution_count": 9,
   "metadata": {
    "collapsed": false
   },
   "outputs": [
    {
     "data": {
      "text/plain": [
       "'Bar Bar, Bar Foo Again!'"
      ]
     },
     "execution_count": 9,
     "metadata": {},
     "output_type": "execute_result"
    }
   ],
   "source": [
    "re.sub('\\w+', 'Bar', 'Foo Foo, Foo Foo Again!', count=3)"
   ]
  },
  {
   "cell_type": "markdown",
   "metadata": {},
   "source": [
    "`subn` performs the same operation as `sub()`, but return a tuple `(new_string, number_of_subs_made)` instead."
   ]
  },
  {
   "cell_type": "code",
   "execution_count": 10,
   "metadata": {
    "collapsed": false
   },
   "outputs": [
    {
     "data": {
      "text/plain": [
       "('Bar Bar, Bar Foo Again!', 3)"
      ]
     },
     "execution_count": 10,
     "metadata": {},
     "output_type": "execute_result"
    }
   ],
   "source": [
    "re.subn('\\w+', 'Bar', 'Foo Foo, Foo Foo Again!', count=3)"
   ]
  },
  {
   "cell_type": "markdown",
   "metadata": {},
   "source": [
    "`split` splits string by pattern. It has four parameters: `pattern`, `string`, `maxsplit` and `flags`. All of them are the same as those in `search` except `maxsplit`. `maxsplit` set the maximum number of times split occurs. After it is reached, all the remainer of the string is set as the last element of the returned list. `maxsplit` defaults to `0`, which means there is no limit of split."
   ]
  },
  {
   "cell_type": "code",
   "execution_count": 11,
   "metadata": {
    "collapsed": false
   },
   "outputs": [
    {
     "name": "stdout",
     "output_type": "stream",
     "text": [
      "['Long', 'long', 'ago,', 'go', 'go', 'go.']\n",
      "['Long', 'long', 'ago, go go go.']\n"
     ]
    }
   ],
   "source": [
    "print re.split(r'\\s+', 'Long long ago, go go go.')\n",
    "print re.split(r'\\s+', 'Long long ago, go go go.', maxsplit=2)"
   ]
  },
  {
   "cell_type": "markdown",
   "metadata": {},
   "source": [
    "## compiled RegexObject usage\n",
    "\n",
    "`re.compile` accepts two arguments `pattern` and `flags` and return a `RegexObject` object. The object can be reused to improve efficiency.\n",
    "\n",
    "RegexObject offers methods `search`, `match`, `findall`, `finditer`, `sub`, `subn`, `split`, which are similar to the module functions. However, since the `re.compile` has already designated `pattern` and `flags`, `pattern` and `flags` are not in the method parameters, and you can retrieve the `flags` and `pattern` from the `flags` and `pattern` properties.\n",
    "\n",
    "The parameters for `search`, `match`, `findall` and `finditer` are `string`, `pos(optional)`, `endpos(optional)`, i.e: `search(string[, pos[, endpos]])`. `pos` and `endpos` give the range of the `string` to be searched."
   ]
  },
  {
   "cell_type": "code",
   "execution_count": 12,
   "metadata": {
    "collapsed": false
   },
   "outputs": [
    {
     "data": {
      "text/plain": [
       "['34']"
      ]
     },
     "execution_count": 12,
     "metadata": {},
     "output_type": "execute_result"
    }
   ],
   "source": [
    "regex = re.compile('\\d+');\n",
    "regex.findall('0123456789', pos=3, endpos=5)"
   ]
  },
  {
   "cell_type": "markdown",
   "metadata": {},
   "source": [
    "**Note**: It's not equivalent to first slice the `string` with `string[pos:endpos]` then perform the search. `^` is still the start of the orginal string."
   ]
  },
  {
   "cell_type": "code",
   "execution_count": 13,
   "metadata": {
    "collapsed": false
   },
   "outputs": [
    {
     "name": "stdout",
     "output_type": "stream",
     "text": [
      "['3456789']\n",
      "[]\n"
     ]
    }
   ],
   "source": [
    "regex = re.compile('^\\d+');\n",
    "s = '0123456789'\n",
    "print regex.findall(s[3:])\n",
    "print regex.findall(s, pos=3)"
   ]
  },
  {
   "cell_type": "markdown",
   "metadata": {},
   "source": [
    "`sub` and `subn` methods are similar to module function `sub` and `subn`, except that the `pattern` and `flags` parameters are removed:"
   ]
  },
  {
   "cell_type": "code",
   "execution_count": 14,
   "metadata": {
    "collapsed": false
   },
   "outputs": [
    {
     "name": "stdout",
     "output_type": "stream",
     "text": [
      "num, num, num\n",
      "num, num, 789\n",
      "('num, num, 789', 2)\n"
     ]
    }
   ],
   "source": [
    "regex = re.compile('\\d+');\n",
    "print regex.sub('num', '123, 456, 789')\n",
    "print regex.sub('num', '123, 456, 789', count=2)\n",
    "print regex.subn('num', '123, 456, 789', count=2)"
   ]
  },
  {
   "cell_type": "markdown",
   "metadata": {},
   "source": [
    "`split` only has `string` and `maxsplit` parameters now:"
   ]
  },
  {
   "cell_type": "code",
   "execution_count": 15,
   "metadata": {
    "collapsed": false
   },
   "outputs": [
    {
     "name": "stdout",
     "output_type": "stream",
     "text": [
      "['I', 'love', 'python.']\n",
      "['I', 'love   python.']\n"
     ]
    }
   ],
   "source": [
    "regex = re.compile(r'\\s+');\n",
    "print regex.split('I  love   python.')\n",
    "print regex.split('I  love   python.', maxsplit=1)"
   ]
  }
 ],
 "metadata": {
  "kernelspec": {
   "display_name": "Python 2",
   "language": "python",
   "name": "python2"
  },
  "language_info": {
   "codemirror_mode": {
    "name": "ipython",
    "version": 2
   },
   "file_extension": ".py",
   "mimetype": "text/x-python",
   "name": "python",
   "nbconvert_exporter": "python",
   "pygments_lexer": "ipython2",
   "version": "2.7.11"
  }
 },
 "nbformat": 4,
 "nbformat_minor": 1
}
