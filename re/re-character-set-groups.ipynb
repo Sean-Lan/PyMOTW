{
 "cells": [
  {
   "cell_type": "markdown",
   "metadata": {},
   "source": [
    "# re - Regular Expressions"
   ]
  },
  {
   "cell_type": "markdown",
   "metadata": {},
   "source": [
    "## Finding Patterns in Text\n",
    "\n",
    "**`search()`** method will return a **`Match`** object if the pattern is found, and **`None`** otherwise."
   ]
  },
  {
   "cell_type": "code",
   "execution_count": 1,
   "metadata": {
    "collapsed": false
   },
   "outputs": [
    {
     "name": "stdout",
     "output_type": "stream",
     "text": [
      "Looking for \"this\" in \"Does this text match the pattern?\" -> found a match!\n",
      "Looking for \"that\" in \"Does this text match the pattern?\" -> no match\n"
     ]
    }
   ],
   "source": [
    "import re\n",
    "\n",
    "patterns = [ 'this', 'that' ]\n",
    "text = 'Does this text match the pattern?'\n",
    "\n",
    "for pattern in patterns:\n",
    "    print 'Looking for \"%s\" in \"%s\" ->' % (pattern, text),\n",
    "    \n",
    "    if re.search(pattern, text):\n",
    "        print 'found a match!'\n",
    "    else:\n",
    "        print 'no match'"
   ]
  },
  {
   "cell_type": "markdown",
   "metadata": {},
   "source": [
    "The start and end index can be obtained from **`Match`** object's **`start()`** and **`end()`** methods."
   ]
  },
  {
   "cell_type": "code",
   "execution_count": 2,
   "metadata": {
    "collapsed": false
   },
   "outputs": [
    {
     "name": "stdout",
     "output_type": "stream",
     "text": [
      "Found \"this\" in \"Does this text match the pattern?\" from 5 to 9 (\"this\")\n"
     ]
    }
   ],
   "source": [
    "import re\n",
    "\n",
    "pattern = 'this'\n",
    "text = 'Does this text match the pattern?'\n",
    "\n",
    "match = re.search(pattern, text)\n",
    "\n",
    "s = match.start()\n",
    "e = match.end()\n",
    "\n",
    "print 'Found \"%s\" in \"%s\" from %d to %d (\"%s\")' % \\\n",
    "    (match.re.pattern, match.string, s, e, text[s:e])"
   ]
  },
  {
   "cell_type": "markdown",
   "metadata": {},
   "source": [
    "## Compiling Expressions\n",
    "\n",
    "Although **`re`** module does offer functions handling text procession, it's usually more efficient to compile the regular expression first. The **`compile()`** function compile a regular expression string into a **`RegexObject`**."
   ]
  },
  {
   "cell_type": "code",
   "execution_count": 3,
   "metadata": {
    "collapsed": false
   },
   "outputs": [
    {
     "name": "stdout",
     "output_type": "stream",
     "text": [
      "Looking for \"this\" in \"Does this text match the pattern?\" -> found a match!\n",
      "Looking for \"that\" in \"Does this text match the pattern?\" -> no match\n"
     ]
    }
   ],
   "source": [
    "import re\n",
    "\n",
    "# Pre-compile the patterns\n",
    "regexes = [ re.compile(p) for p in ['this', 'that']]\n",
    "\n",
    "text = 'Does this text match the pattern?'\n",
    "\n",
    "for regex in regexes:\n",
    "    print 'Looking for \"%s\" in \"%s\" ->' % (regex.pattern, text),\n",
    "    \n",
    "    if regex.search(text):\n",
    "        print 'found a match!'\n",
    "    else:\n",
    "        print 'no match'"
   ]
  },
  {
   "cell_type": "markdown",
   "metadata": {},
   "source": [
    "Let's do some benchmark:"
   ]
  },
  {
   "cell_type": "code",
   "execution_count": 5,
   "metadata": {
    "collapsed": false
   },
   "outputs": [
    {
     "name": "stdout",
     "output_type": "stream",
     "text": [
      "The slowest run took 13.96 times longer than the fastest. This could mean that an intermediate result is being cached.\n",
      "1000000 loops, best of 3: 290 ns per loop\n",
      "The slowest run took 7.44 times longer than the fastest. This could mean that an intermediate result is being cached.\n",
      "1000000 loops, best of 3: 1.06 µs per loop\n"
     ]
    }
   ],
   "source": [
    "import re\n",
    "\n",
    "pattern = 'this'\n",
    "regex = re.compile(pattern)\n",
    "text = 'Does this text match the pattern?'\n",
    "\n",
    "%timeit regex.search(text)\n",
    "\n",
    "%timeit re.search(pattern, text)"
   ]
  },
  {
   "cell_type": "markdown",
   "metadata": {},
   "source": [
    "## Multiple Matches\n",
    "\n",
    "**`search()`** gives a single matching result, while **`findall()`** gives all."
   ]
  },
  {
   "cell_type": "code",
   "execution_count": 11,
   "metadata": {
    "collapsed": false
   },
   "outputs": [
    {
     "name": "stdout",
     "output_type": "stream",
     "text": [
      "Found \"ab\"\n",
      "Found \"ab\"\n"
     ]
    }
   ],
   "source": [
    "import re\n",
    "\n",
    "text = 'abbaaabbbbaaaaa'\n",
    "\n",
    "pattern = 'ab'\n",
    "\n",
    "for match in re.findall(pattern, text):\n",
    "    print 'Found \"%s\"' % match"
   ]
  },
  {
   "cell_type": "code",
   "execution_count": 13,
   "metadata": {
    "collapsed": false
   },
   "outputs": [
    {
     "name": "stdout",
     "output_type": "stream",
     "text": [
      "Found \"ab\"\n",
      "Found \"ab\"\n"
     ]
    }
   ],
   "source": [
    "import re\n",
    "\n",
    "text = 'abbaaabbbaaaaa'\n",
    "\n",
    "pattern = 'ab'\n",
    "\n",
    "regex = re.compile(pattern)\n",
    "\n",
    "for match in regex.findall(text):\n",
    "    print 'Found \"%s\"' % match"
   ]
  },
  {
   "cell_type": "markdown",
   "metadata": {},
   "source": [
    "**`finditer()`** returns an iterator that produces **`Match`** instances."
   ]
  },
  {
   "cell_type": "code",
   "execution_count": 12,
   "metadata": {
    "collapsed": false
   },
   "outputs": [
    {
     "name": "stdout",
     "output_type": "stream",
     "text": [
      "Found \"ab\" at 0:2\n",
      "Found \"ab\" at 5:7\n"
     ]
    }
   ],
   "source": [
    "import re\n",
    "\n",
    "text = 'abbaaabbbbaaaaa'\n",
    "\n",
    "pattern = 'ab'\n",
    "\n",
    "for match in re.finditer(pattern, text):\n",
    "    s = match.start()\n",
    "    e = match.end()\n",
    "    print 'Found \"%s\" at %d:%d' % (text[s:e], s, e)"
   ]
  },
  {
   "cell_type": "code",
   "execution_count": 14,
   "metadata": {
    "collapsed": false
   },
   "outputs": [
    {
     "name": "stdout",
     "output_type": "stream",
     "text": [
      "Found \"ab\" at 0:2\n",
      "Found \"ab\" at 5:7\n"
     ]
    }
   ],
   "source": [
    "import re\n",
    "\n",
    "text = 'abbaaabbbaaaaa'\n",
    "\n",
    "pattern = 'ab'\n",
    "\n",
    "regex = re.compile(pattern)\n",
    "\n",
    "for match in regex.finditer(text):\n",
    "    s = match.start()\n",
    "    e = match.end()\n",
    "    print 'Found \"%s\" at %d:%d' % (text[s:e], s, e)"
   ]
  },
  {
   "cell_type": "markdown",
   "metadata": {},
   "source": [
    "## Pattern Syntax\n",
    "\n",
    "We'll walk through pattern syntax by examples. Utility function **`test_patterns()`** print the string along with matching results."
   ]
  },
  {
   "cell_type": "code",
   "execution_count": 19,
   "metadata": {
    "collapsed": false
   },
   "outputs": [],
   "source": [
    "import re\n",
    "\n",
    "def test_patterns(text, patterns=[]):\n",
    "    \"\"\"Given source text and a list of patterns, look for\n",
    "    matches for each pattern within the text and print\n",
    "    them to stdout.\n",
    "    \"\"\"\n",
    "    # Show the character positions and input text\n",
    "    print\n",
    "    print ''.join(str(i/10 or ' ') for i in range(len(text)))\n",
    "    print ''.join(str(i%10) for i in range(len(text)))\n",
    "    print text\n",
    "\n",
    "    # Look for each pattern in the text and print the results\n",
    "    for pattern in patterns:\n",
    "        print\n",
    "        print 'Matching \"%s\"' % pattern\n",
    "        for match in re.finditer(pattern, text):\n",
    "            s = match.start()\n",
    "            e = match.end()\n",
    "            print '  %2d : %2d = \"%s\"' % \\\n",
    "                (s, e-1, text[s:e])"
   ]
  },
  {
   "cell_type": "code",
   "execution_count": 20,
   "metadata": {
    "collapsed": false
   },
   "outputs": [
    {
     "name": "stdout",
     "output_type": "stream",
     "text": [
      "\n",
      "          1111\n",
      "01234567890123\n",
      "abbaaabbbaaaaa\n",
      "\n",
      "Matching \"ab\"\n",
      "   0 :  1 = \"ab\"\n",
      "   5 :  6 = \"ab\"\n"
     ]
    }
   ],
   "source": [
    "test_patterns('abbaaabbbaaaaa', ['ab'])"
   ]
  },
  {
   "cell_type": "markdown",
   "metadata": {},
   "source": [
    "## Repetition"
   ]
  },
  {
   "cell_type": "code",
   "execution_count": 26,
   "metadata": {
    "collapsed": false
   },
   "outputs": [
    {
     "name": "stdout",
     "output_type": "stream",
     "text": [
      "\n",
      "          1111\n",
      "01234567890123\n",
      "abbaaabbbaaaaa\n",
      "\n",
      "Matching \"ab*\"\n",
      "   0 :  2 = \"abb\"\n",
      "   3 :  3 = \"a\"\n",
      "   4 :  4 = \"a\"\n",
      "   5 :  8 = \"abbb\"\n",
      "   9 :  9 = \"a\"\n",
      "  10 : 10 = \"a\"\n",
      "  11 : 11 = \"a\"\n",
      "  12 : 12 = \"a\"\n",
      "  13 : 13 = \"a\"\n",
      "\n",
      "Matching \"ab+\"\n",
      "   0 :  2 = \"abb\"\n",
      "   5 :  8 = \"abbb\"\n",
      "\n",
      "Matching \"ab?\"\n",
      "   0 :  1 = \"ab\"\n",
      "   3 :  3 = \"a\"\n",
      "   4 :  4 = \"a\"\n",
      "   5 :  6 = \"ab\"\n",
      "   9 :  9 = \"a\"\n",
      "  10 : 10 = \"a\"\n",
      "  11 : 11 = \"a\"\n",
      "  12 : 12 = \"a\"\n",
      "  13 : 13 = \"a\"\n",
      "\n",
      "Matching \"ab{3}\"\n",
      "   5 :  8 = \"abbb\"\n",
      "\n",
      "Matching \"ab{2,3}\"\n",
      "   0 :  2 = \"abb\"\n",
      "   5 :  8 = \"abbb\"\n"
     ]
    }
   ],
   "source": [
    "test_patterns('abbaaabbbaaaaa',\n",
    "             [\n",
    "        'ab*',     # a followed by zero or more b\n",
    "        'ab+',     # a followed by one or more b\n",
    "        'ab?',     # a followed by zero or one b\n",
    "        'ab{3}',   # a followed by three b\n",
    "        'ab{2,3}', # a followed by two to three b, no space is allowed between 2 and 3. \n",
    "    ])"
   ]
  },
  {
   "cell_type": "markdown",
   "metadata": {},
   "source": [
    "The default search behavior is greedy, i.e, consuming as mush of the input as possible. We can turn off this behavior by append a `?` at the end."
   ]
  },
  {
   "cell_type": "code",
   "execution_count": 27,
   "metadata": {
    "collapsed": false
   },
   "outputs": [
    {
     "name": "stdout",
     "output_type": "stream",
     "text": [
      "\n",
      "          11111\n",
      "012345678901234\n",
      "abbaaabbbbaaaaa\n",
      "\n",
      "Matching \"ab*?\"\n",
      "   0 :  0 = \"a\"\n",
      "   3 :  3 = \"a\"\n",
      "   4 :  4 = \"a\"\n",
      "   5 :  5 = \"a\"\n",
      "  10 : 10 = \"a\"\n",
      "  11 : 11 = \"a\"\n",
      "  12 : 12 = \"a\"\n",
      "  13 : 13 = \"a\"\n",
      "  14 : 14 = \"a\"\n",
      "\n",
      "Matching \"ab+?\"\n",
      "   0 :  1 = \"ab\"\n",
      "   5 :  6 = \"ab\"\n",
      "\n",
      "Matching \"ab??\"\n",
      "   0 :  0 = \"a\"\n",
      "   3 :  3 = \"a\"\n",
      "   4 :  4 = \"a\"\n",
      "   5 :  5 = \"a\"\n",
      "  10 : 10 = \"a\"\n",
      "  11 : 11 = \"a\"\n",
      "  12 : 12 = \"a\"\n",
      "  13 : 13 = \"a\"\n",
      "  14 : 14 = \"a\"\n",
      "\n",
      "Matching \"ab{3}?\"\n",
      "   5 :  8 = \"abbb\"\n",
      "\n",
      "Matching \"ab{2,3}?\"\n",
      "   0 :  2 = \"abb\"\n",
      "   5 :  7 = \"abb\"\n"
     ]
    }
   ],
   "source": [
    "test_patterns('abbaaabbbbaaaaa',\n",
    "             [\n",
    "        'ab*?',     # a followed by zero or more b\n",
    "        'ab+?',     # a followed by one or more b\n",
    "        'ab??',     # a followed by zero or one b\n",
    "        'ab{3}?',   # a followed by three b\n",
    "        'ab{2,3}?', # a followed by two to three b\n",
    "    ])"
   ]
  },
  {
   "cell_type": "markdown",
   "metadata": {},
   "source": [
    "## Character Sets"
   ]
  },
  {
   "cell_type": "code",
   "execution_count": 29,
   "metadata": {
    "collapsed": false
   },
   "outputs": [
    {
     "name": "stdout",
     "output_type": "stream",
     "text": [
      "\n",
      "          11111\n",
      "012345678901234\n",
      "abbaaabbbbaaaaa\n",
      "\n",
      "Matching \"[ab]\"\n",
      "   0 :  0 = \"a\"\n",
      "   1 :  1 = \"b\"\n",
      "   2 :  2 = \"b\"\n",
      "   3 :  3 = \"a\"\n",
      "   4 :  4 = \"a\"\n",
      "   5 :  5 = \"a\"\n",
      "   6 :  6 = \"b\"\n",
      "   7 :  7 = \"b\"\n",
      "   8 :  8 = \"b\"\n",
      "   9 :  9 = \"b\"\n",
      "  10 : 10 = \"a\"\n",
      "  11 : 11 = \"a\"\n",
      "  12 : 12 = \"a\"\n",
      "  13 : 13 = \"a\"\n",
      "  14 : 14 = \"a\"\n",
      "\n",
      "Matching \"a[ab]+\"\n",
      "   0 : 14 = \"abbaaabbbbaaaaa\"\n",
      "\n",
      "Matching \"a[ab]+?\"\n",
      "   0 :  1 = \"ab\"\n",
      "   3 :  4 = \"aa\"\n",
      "   5 :  6 = \"ab\"\n",
      "  10 : 11 = \"aa\"\n",
      "  12 : 13 = \"aa\"\n"
     ]
    }
   ],
   "source": [
    "test_patterns('abbaaabbbbaaaaa',\n",
    "             [\n",
    "        '[ab]',     # either a or b\n",
    "        'a[ab]+',   # a followed by one or more a or b\n",
    "        'a[ab]+?',  # a followed by one or more a or b, not greedy\n",
    "    ])"
   ]
  },
  {
   "cell_type": "markdown",
   "metadata": {},
   "source": [
    "Place a `^` can search characters not including in the set."
   ]
  },
  {
   "cell_type": "code",
   "execution_count": 30,
   "metadata": {
    "collapsed": false
   },
   "outputs": [
    {
     "name": "stdout",
     "output_type": "stream",
     "text": [
      "\n",
      "          1111111111222222222233333333\n",
      "01234567890123456789012345678901234567\n",
      "This is some text -- with punctuation.\n",
      "\n",
      "Matching \"[^-. ]+\"\n",
      "   0 :  3 = \"This\"\n",
      "   5 :  6 = \"is\"\n",
      "   8 : 11 = \"some\"\n",
      "  13 : 16 = \"text\"\n",
      "  21 : 24 = \"with\"\n",
      "  26 : 36 = \"punctuation\"\n"
     ]
    }
   ],
   "source": [
    "test_patterns('This is some text -- with punctuation.',\n",
    "             [ '[^-. ]+', # seuquences without -, ., or space\n",
    "                 ])"
   ]
  },
  {
   "cell_type": "markdown",
   "metadata": {},
   "source": [
    "*Charater ranges* can save you a lot of time to input all the characters:"
   ]
  },
  {
   "cell_type": "code",
   "execution_count": 32,
   "metadata": {
    "collapsed": false
   },
   "outputs": [
    {
     "name": "stdout",
     "output_type": "stream",
     "text": [
      "\n",
      "          1111111111222222222233333333\n",
      "01234567890123456789012345678901234567\n",
      "This is some text -- with punctuation.\n",
      "\n",
      "Matching \"[a-z]+\"\n",
      "   1 :  3 = \"his\"\n",
      "   5 :  6 = \"is\"\n",
      "   8 : 11 = \"some\"\n",
      "  13 : 16 = \"text\"\n",
      "  21 : 24 = \"with\"\n",
      "  26 : 36 = \"punctuation\"\n",
      "\n",
      "Matching \"[A-Z]+\"\n",
      "   0 :  0 = \"T\"\n",
      "\n",
      "Matching \"[a-zA-Z]+\"\n",
      "   0 :  3 = \"This\"\n",
      "   5 :  6 = \"is\"\n",
      "   8 : 11 = \"some\"\n",
      "  13 : 16 = \"text\"\n",
      "  21 : 24 = \"with\"\n",
      "  26 : 36 = \"punctuation\"\n",
      "\n",
      "Matching \"[A-Z][a-z]+\"\n",
      "   0 :  3 = \"This\"\n"
     ]
    }
   ],
   "source": [
    "test_patterns('This is some text -- with punctuation.',\n",
    "             [\n",
    "        '[a-z]+',         # sequences of lower case letters\n",
    "        '[A-Z]+',          # sequences of upper case letters\n",
    "        '[a-zA-Z]+',      # sequences of lower or upper case letters\n",
    "        '[A-Z][a-z]+',    # one upper case letter followed by lower case letters\n",
    "    ])"
   ]
  },
  {
   "cell_type": "markdown",
   "metadata": {},
   "source": [
    "Dot or period (`.`) is a special character set, which matches any single character."
   ]
  },
  {
   "cell_type": "code",
   "execution_count": 34,
   "metadata": {
    "collapsed": false
   },
   "outputs": [
    {
     "name": "stdout",
     "output_type": "stream",
     "text": [
      "\n",
      "          11111\n",
      "012345678901234\n",
      "abbaaabbbbaaaaa\n",
      "\n",
      "Matching \"a.\"\n",
      "   0 :  1 = \"ab\"\n",
      "   3 :  4 = \"aa\"\n",
      "   5 :  6 = \"ab\"\n",
      "  10 : 11 = \"aa\"\n",
      "  12 : 13 = \"aa\"\n",
      "\n",
      "Matching \"b.\"\n",
      "   1 :  2 = \"bb\"\n",
      "   6 :  7 = \"bb\"\n",
      "   8 :  9 = \"bb\"\n",
      "\n",
      "Matching \"a.*b\"\n",
      "   0 :  9 = \"abbaaabbbb\"\n",
      "\n",
      "Matching \"a.*?b\"\n",
      "   0 :  1 = \"ab\"\n",
      "   3 :  6 = \"aaab\"\n"
     ]
    }
   ],
   "source": [
    "test_patterns('abbaaabbbbaaaaa',[\n",
    "        'a.',   # a followed by any one character\n",
    "        'b.',   # b followed by any one character\n",
    "        'a.*b', # a followed by anything, ending in b\n",
    "        'a.*?b', # a followed by anything, ending in b, non-greedy\n",
    "    ])"
   ]
  },
  {
   "cell_type": "markdown",
   "metadata": {},
   "source": [
    "## Escape Codes\n",
    "\n",
    "The escape codes can express character sets even more compact.\n",
    "\n",
    "\n",
    "\n",
    "| Code   | Meaning                                |\n",
    "|--------|----------------------------------------|\n",
    "| \\d     | a digit                                |\n",
    "| \\D     | a non-digit                            |\n",
    "| \\s     | whitespace (tab, space, newline, etc.) |\n",
    "| \\S     | non-whitespace                         |\n",
    "| \\w     | alphanumeric                           |\n",
    "| \\W     | non-alphanumeric                       |\n",
    "\n",
    "It's good to use python raw string to save time bothering the backslash escaping."
   ]
  },
  {
   "cell_type": "code",
   "execution_count": 35,
   "metadata": {
    "collapsed": false
   },
   "outputs": [
    {
     "name": "stdout",
     "output_type": "stream",
     "text": [
      "\n",
      "          11111111112222222\n",
      "012345678901234567890123456\n",
      "This is a prime #1 example!\n",
      "\n",
      "Matching \"\\d+\"\n",
      "  17 : 17 = \"1\"\n",
      "\n",
      "Matching \"\\D+\"\n",
      "   0 : 16 = \"This is a prime #\"\n",
      "  18 : 26 = \" example!\"\n",
      "\n",
      "Matching \"\\s+\"\n",
      "   4 :  4 = \" \"\n",
      "   7 :  7 = \" \"\n",
      "   9 :  9 = \" \"\n",
      "  15 : 15 = \" \"\n",
      "  18 : 18 = \" \"\n",
      "\n",
      "Matching \"\\S+\"\n",
      "   0 :  3 = \"This\"\n",
      "   5 :  6 = \"is\"\n",
      "   8 :  8 = \"a\"\n",
      "  10 : 14 = \"prime\"\n",
      "  16 : 17 = \"#1\"\n",
      "  19 : 26 = \"example!\"\n",
      "\n",
      "Matching \"\\w+\"\n",
      "   0 :  3 = \"This\"\n",
      "   5 :  6 = \"is\"\n",
      "   8 :  8 = \"a\"\n",
      "  10 : 14 = \"prime\"\n",
      "  17 : 17 = \"1\"\n",
      "  19 : 25 = \"example\"\n",
      "\n",
      "Matching \"\\W+\"\n",
      "   4 :  4 = \" \"\n",
      "   7 :  7 = \" \"\n",
      "   9 :  9 = \" \"\n",
      "  15 : 16 = \" #\"\n",
      "  18 : 18 = \" \"\n",
      "  26 : 26 = \"!\"\n"
     ]
    }
   ],
   "source": [
    "test_patterns('This is a prime #1 example!', [\n",
    "        r'\\d+', # sequence of digits\n",
    "        r'\\D+', # sequence of non-digits\n",
    "        r'\\s+', # sequence of whitespace\n",
    "        r'\\S+', # sequence of non-whitespace\n",
    "        r'\\w+', # alphanumeric characters\n",
    "        r'\\W+', # non-alphanumeric\n",
    "    ])"
   ]
  },
  {
   "cell_type": "markdown",
   "metadata": {},
   "source": [
    "To match the characters that are part of the regular expression syntax, escape the characters in the search pattern."
   ]
  },
  {
   "cell_type": "code",
   "execution_count": 36,
   "metadata": {
    "collapsed": false
   },
   "outputs": [
    {
     "name": "stdout",
     "output_type": "stream",
     "text": [
      "\n",
      "          1111111111222\n",
      "01234567890123456789012\n",
      "\\d+ \\D+ \\s+ \\S+ \\w+ \\W+\n",
      "\n",
      "Matching \"\\\\d\\+\"\n",
      "   0 :  2 = \"\\d+\"\n",
      "\n",
      "Matching \"\\\\d\\+\"\n",
      "   0 :  2 = \"\\d+\"\n",
      "\n",
      "Matching \"\\\\D\\+\"\n",
      "   4 :  6 = \"\\D+\"\n",
      "\n",
      "Matching \"\\\\s\\+\"\n",
      "   8 : 10 = \"\\s+\"\n",
      "\n",
      "Matching \"\\\\S\\+\"\n",
      "  12 : 14 = \"\\S+\"\n",
      "\n",
      "Matching \"\\\\w\\+\"\n",
      "  16 : 18 = \"\\w+\"\n",
      "\n",
      "Matching \"\\\\W\\+\"\n",
      "  20 : 22 = \"\\W+\"\n"
     ]
    }
   ],
   "source": [
    "test_patterns(r'\\d+ \\D+ \\s+ \\S+ \\w+ \\W+', [\n",
    "        r'\\\\d\\+',\n",
    "        r'\\\\d\\+',\n",
    "        r'\\\\D\\+',\n",
    "        r'\\\\s\\+',\n",
    "        r'\\\\S\\+',\n",
    "        r'\\\\w\\+',\n",
    "        r'\\\\W\\+'\n",
    "    ])"
   ]
  },
  {
   "cell_type": "markdown",
   "metadata": {},
   "source": [
    "## Anchoring\n",
    "\n",
    "You can also specify the relative location the pattern appear in the string with *anchoring* instructions.\n",
    "\n",
    "| Code | Meaning |\n",
    "|------|---------|\n",
    "| ^    | start of string, or line |\n",
    "| $    | end of string, or line |\n",
    "| \\A   | start of string |\n",
    "| \\Z   | end of string   |\n",
    "| \\b   | empty string at the beginning or end of a word |\n",
    "| \\B   | empty string not at the beginning or end of a word |"
   ]
  },
  {
   "cell_type": "code",
   "execution_count": 37,
   "metadata": {
    "collapsed": false
   },
   "outputs": [
    {
     "name": "stdout",
     "output_type": "stream",
     "text": [
      "\n",
      "          1111111111222222222233333333\n",
      "01234567890123456789012345678901234567\n",
      "This is some text -- with punctuation.\n",
      "\n",
      "Matching \"^\\w+\"\n",
      "   0 :  3 = \"This\"\n",
      "\n",
      "Matching \"\\A\\w+\"\n",
      "   0 :  3 = \"This\"\n",
      "\n",
      "Matching \"\\w+\\S*$\"\n",
      "  26 : 37 = \"punctuation.\"\n",
      "\n",
      "Matching \"\\w+\\S*\\Z\"\n",
      "  26 : 37 = \"punctuation.\"\n",
      "\n",
      "Matching \"\\w*\\t\\w*\"\n",
      "\n",
      "Matching \"\\bt\\w+\"\n",
      "  13 : 16 = \"text\"\n",
      "\n",
      "Matching \"\\w+t\\b\"\n",
      "  13 : 16 = \"text\"\n",
      "\n",
      "Matching \"\\Bt\\B\"\n",
      "  23 : 23 = \"t\"\n",
      "  30 : 30 = \"t\"\n",
      "  33 : 33 = \"t\"\n"
     ]
    }
   ],
   "source": [
    "test_patterns('This is some text -- with punctuation.', [\n",
    "        r'^\\w+',        # word at start of string\n",
    "        r'\\A\\w+',       # word at start of string\n",
    "        r'\\w+\\S*$',     # word at end of string, with optional punctuation\n",
    "        r'\\w+\\S*\\Z',    # word at end of string, with optional punctuation\n",
    "        r'\\w*\\t\\w*',    # word containing 't'\n",
    "        r'\\bt\\w+',      # 't' at start of word\n",
    "        r'\\w+t\\b',      # 't' at end of word\n",
    "        r'\\Bt\\B',       # 't', not start or end of word\n",
    "    ])"
   ]
  },
  {
   "cell_type": "markdown",
   "metadata": {},
   "source": [
    "## Constraining the Search\n",
    "\n",
    "To specify the pattern should appear at the front of the input, you can use **`match()`** as a short hand instead of explicitly include an anchor in the search pattern."
   ]
  },
  {
   "cell_type": "code",
   "execution_count": 38,
   "metadata": {
    "collapsed": false
   },
   "outputs": [
    {
     "name": "stdout",
     "output_type": "stream",
     "text": [
      "Text   : This is some text -- with punctuation.\n",
      "Pattern: is\n",
      "Match  : None\n",
      "Search : <_sre.SRE_Match object at 0x108fd9510>\n"
     ]
    }
   ],
   "source": [
    "import re\n",
    "\n",
    "text = 'This is some text -- with punctuation.'\n",
    "pattern = 'is'\n",
    "\n",
    "print 'Text   :', text\n",
    "print 'Pattern:', pattern\n",
    "\n",
    "m = re.match(pattern, text)\n",
    "print 'Match  :', m\n",
    "s = re.search(pattern, text)\n",
    "print 'Search :', s"
   ]
  },
  {
   "cell_type": "markdown",
   "metadata": {},
   "source": [
    "Since `is` isn't at the beginning of `text` string, so **`match()`** won't found any matching pattern.\n",
    "\n",
    "The **`search()`** method of a compiled regular expression accepts optional *start* and *end* position parameters to limit the search to a substring of the input."
   ]
  },
  {
   "cell_type": "code",
   "execution_count": 41,
   "metadata": {
    "collapsed": false
   },
   "outputs": [
    {
     "name": "stdout",
     "output_type": "stream",
     "text": [
      "Text: This is some text -- with punctuation.\n",
      "\n",
      "    0 :  3 = \"This\"\n",
      "    5 :  6 = \"is\"\n"
     ]
    }
   ],
   "source": [
    "import re\n",
    "\n",
    "text = 'This is some text -- with punctuation.'\n",
    "pattern = re.compile(r'\\b\\w*is\\w*\\b')\n",
    "\n",
    "print 'Text:', text\n",
    "print\n",
    "\n",
    "pos = 0\n",
    "while True:\n",
    "    match = pattern.search(text, pos)\n",
    "    if not match:\n",
    "        break\n",
    "    s = match.start()\n",
    "    e = match.end()\n",
    "    print '   %2d : %2d = \"%s\"' % \\\n",
    "        (s, e-1, text[s:e])\n",
    "    # Move forward in text for the next search\n",
    "    pos = e"
   ]
  },
  {
   "cell_type": "markdown",
   "metadata": {},
   "source": [
    "The above example implements a less efficient form of **`finditer()`**. Each time a match is found, the end position of that match is used for the next search."
   ]
  },
  {
   "cell_type": "markdown",
   "metadata": {},
   "source": [
    "## Dissecting Matches with Groups\n",
    "\n",
    "We can use parentheses (`(` and `)`) to create *groups* to isolate parts of the matching text."
   ]
  },
  {
   "cell_type": "code",
   "execution_count": 42,
   "metadata": {
    "collapsed": false
   },
   "outputs": [
    {
     "name": "stdout",
     "output_type": "stream",
     "text": [
      "\n",
      "          11111\n",
      "012345678901234\n",
      "abbaaabbbbaaaaa\n",
      "\n",
      "Matching \"a(ab)\"\n",
      "   4 :  6 = \"aab\"\n",
      "\n",
      "Matching \"a(a*b*)\"\n",
      "   0 :  2 = \"abb\"\n",
      "   3 :  9 = \"aaabbbb\"\n",
      "  10 : 14 = \"aaaaa\"\n",
      "\n",
      "Matching \"a(ab)*\"\n",
      "   0 :  0 = \"a\"\n",
      "   3 :  3 = \"a\"\n",
      "   4 :  6 = \"aab\"\n",
      "  10 : 10 = \"a\"\n",
      "  11 : 11 = \"a\"\n",
      "  12 : 12 = \"a\"\n",
      "  13 : 13 = \"a\"\n",
      "  14 : 14 = \"a\"\n",
      "\n",
      "Matching \"a(ab)+\"\n",
      "   4 :  6 = \"aab\"\n"
     ]
    }
   ],
   "source": [
    "test_patterns('abbaaabbbbaaaaa', [\n",
    "        'a(ab)',    # 'a' followed by literal 'ab'\n",
    "        'a(a*b*)',  # 'a' followed by 0-n 'a' and 0-n 'b'\n",
    "        'a(ab)*',   # 'a' followed by 0-n 'ab'\n",
    "        'a(ab)+',   # 'a' followed by 1-n 'ab'\n",
    "    ])"
   ]
  },
  {
   "cell_type": "markdown",
   "metadata": {},
   "source": [
    "To access the substrings matched by the individual groups within a pattern, use the **`groups()`** method of the **`Match`** object."
   ]
  },
  {
   "cell_type": "code",
   "execution_count": 46,
   "metadata": {
    "collapsed": false
   },
   "outputs": [
    {
     "name": "stdout",
     "output_type": "stream",
     "text": [
      "This is some text -- with punctuation.\n",
      "\n",
      "Matching \"^(\\w+)\"\n",
      "    ('This',)\n",
      "    This\n",
      "   \n",
      "Matching \"(\\w+)\\S*$\"\n",
      "    ('punctuation',)\n",
      "    punctuation.\n",
      "   \n",
      "Matching \"(\\bt\\w+)\\W+(\\w+)\"\n",
      "    ('text', 'with')\n",
      "    text -- with\n",
      "   \n",
      "Matching \"(\\w+t)\\b\"\n",
      "    ('text',)\n",
      "    text\n",
      "   \n"
     ]
    }
   ],
   "source": [
    "import re\n",
    "\n",
    "text = 'This is some text -- with punctuation.'\n",
    "\n",
    "print text\n",
    "print\n",
    "\n",
    "for pattern in [ r'^(\\w+)',          # word at start of string\n",
    "                 r'(\\w+)\\S*$',       # word at end of string, with optional punctuation\n",
    "                 r'(\\bt\\w+)\\W+(\\w+)', # word starting with 't' then another word\n",
    "                 r'(\\w+t)\\b',        # word ending with 't'\n",
    "            ]:\n",
    "    regex = re.compile(pattern)\n",
    "    match = regex.search(text)\n",
    "    print 'Matching \"%s\"' % pattern\n",
    "    print '   ', match.groups()\n",
    "    print '   ', match.group(0)\n",
    "    print '   '"
   ]
  },
  {
   "cell_type": "markdown",
   "metadata": {},
   "source": [
    "You get the group you want with **`group()`** method."
   ]
  },
  {
   "cell_type": "code",
   "execution_count": 52,
   "metadata": {
    "collapsed": false
   },
   "outputs": [
    {
     "name": "stdout",
     "output_type": "stream",
     "text": [
      "Input text            : This is some text -- with punctuation.\n",
      "Pattern               : (\\bt\\w+)\\W+(\\w+)\n",
      "Entire match          : text -- with\n",
      "Word starting with \"t\": text\n",
      "Word after \"t\" word   : with\n"
     ]
    }
   ],
   "source": [
    "import re\n",
    "\n",
    "text = 'This is some text -- with punctuation.'\n",
    "\n",
    "print 'Input text            :', text\n",
    "\n",
    "# word starting with 't' then another word\n",
    "regex = re.compile(r'(\\bt\\w+)\\W+(\\w+)')\n",
    "print 'Pattern               :', regex.pattern\n",
    "\n",
    "match = regex.search(text)\n",
    "print 'Entire match          :', match.group(0)\n",
    "print 'Word starting with \"t\":', match.group(1)\n",
    "print 'Word after \"t\" word   :', match.group(2)"
   ]
  },
  {
   "cell_type": "markdown",
   "metadata": {},
   "source": [
    "Group `0` represents the string matched by the entire expression, and sub-groups are numbered starting with `1` in the order their **left** parenthesis appears in the expression.\n",
    "\n",
    "Python also supports *named* groups, and the syntax is as `(P?<name>pattern)`."
   ]
  },
  {
   "cell_type": "code",
   "execution_count": 50,
   "metadata": {
    "collapsed": false
   },
   "outputs": [
    {
     "name": "stdout",
     "output_type": "stream",
     "text": [
      " This is some text -- with punctuation.\n",
      "\n",
      "Matching \"^(?P<first_word>\\w+)\"\n",
      "   ('This',)\n",
      "   {'first_word': 'This'}\n",
      "\n",
      "Matching \"(?P<last_word>\\w+)\\S*$\"\n",
      "   ('punctuation',)\n",
      "   {'last_word': 'punctuation'}\n",
      "\n",
      "Matching \"(?P<t_word>\\bt\\w+)\\W+(?P<other_word>\\w+)\"\n",
      "   ('text', 'with')\n",
      "   {'other_word': 'with', 't_word': 'text'}\n",
      "\n",
      "Matching \"(?P<ends_with_t>\\w+t)\\b\"\n",
      "   ('text',)\n",
      "   {'ends_with_t': 'text'}\n",
      "\n"
     ]
    }
   ],
   "source": [
    "import re\n",
    "\n",
    "text = 'This is some text -- with punctuation.'\n",
    "\n",
    "print text\n",
    "print\n",
    "\n",
    "for pattern in [ r'^(?P<first_word>\\w+)',\n",
    "                 r'(?P<last_word>\\w+)\\S*$',\n",
    "                 r'(?P<t_word>\\bt\\w+)\\W+(?P<other_word>\\w+)',\n",
    "                 r'(?P<ends_with_t>\\w+t)\\b',\n",
    "               ]:\n",
    "    regex = re.compile(pattern)\n",
    "    match = regex.search(text)\n",
    "    print 'Matching \"%s\"' % pattern\n",
    "    print '  ', match.groups()\n",
    "    print '  ', match.groupdict()\n",
    "    print"
   ]
  },
  {
   "cell_type": "markdown",
   "metadata": {},
   "source": [
    "Now we can update **`test_patterns()`** to show the numbered and named groups matched by a pattern:"
   ]
  },
  {
   "cell_type": "code",
   "execution_count": 53,
   "metadata": {
    "collapsed": true
   },
   "outputs": [],
   "source": [
    "import re\n",
    "\n",
    "def test_patterns(text, patterns=[]):\n",
    "    \"\"\"Given source text and a list of patterns, look for\n",
    "    matches for each pattern within the text and print\n",
    "    them to stdout.\n",
    "    \"\"\"\n",
    "    # Show the character positions and input text\n",
    "    print\n",
    "    print ''.join(str(i/10 or ' ') for i in range(len(text)))\n",
    "    print ''.join(str(i%10) for i in range(len(text)))\n",
    "    print text\n",
    "    \n",
    "    # Look for each pattern in the text and print the results\n",
    "    for pattern in patterns:\n",
    "        print\n",
    "        print 'Matching \"%s\"' % pattern\n",
    "        for match in re.finditer(pattern, text):\n",
    "            s = match.start()\n",
    "            e = match.end()\n",
    "            print '   %2d : %2d = \"%s\"' % \\\n",
    "                (s, e-1, text[s:e])\n",
    "            print '   Groups:', match.groups()\n",
    "            if match.groupdict():\n",
    "                print '   Named groups:', match.groupdict()\n",
    "            print"
   ]
  },
  {
   "cell_type": "markdown",
   "metadata": {},
   "source": [
    "Since a group itself is a complete regular expression, groups can be nested within other groups to build even more complicated expressions."
   ]
  },
  {
   "cell_type": "code",
   "execution_count": 54,
   "metadata": {
    "collapsed": false
   },
   "outputs": [
    {
     "name": "stdout",
     "output_type": "stream",
     "text": [
      "\n",
      "          11111\n",
      "012345678901234\n",
      "abbaaabbbbaaaaa\n",
      "\n",
      "Matching \"a((a*)(b*))\"\n",
      "    0 :  2 = \"abb\"\n",
      "   Groups: ('bb', '', 'bb')\n",
      "\n",
      "    3 :  9 = \"aaabbbb\"\n",
      "   Groups: ('aabbbb', 'aa', 'bbbb')\n",
      "\n",
      "   10 : 14 = \"aaaaa\"\n",
      "   Groups: ('aaaa', 'aaaa', '')\n",
      "\n"
     ]
    }
   ],
   "source": [
    "test_patterns('abbaaabbbbaaaaa',\n",
    "             [r'a((a*)(b*))', # 'a' followed by 0-n 'a' and 0-n 'b'\n",
    "             ])"
   ]
  },
  {
   "cell_type": "markdown",
   "metadata": {},
   "source": [
    "Groups are also useful for specifying alternative patterns, and you can use `|` to indicate that one pattern or another should match."
   ]
  },
  {
   "cell_type": "code",
   "execution_count": 55,
   "metadata": {
    "collapsed": false
   },
   "outputs": [
    {
     "name": "stdout",
     "output_type": "stream",
     "text": [
      "\n",
      "          11111\n",
      "012345678901234\n",
      "abbaaabbbbaaaaa\n",
      "\n",
      "Matching \"a((a+)|(b+))\"\n",
      "    0 :  2 = \"abb\"\n",
      "   Groups: ('bb', None, 'bb')\n",
      "\n",
      "    3 :  5 = \"aaa\"\n",
      "   Groups: ('aa', 'aa', None)\n",
      "\n",
      "   10 : 14 = \"aaaaa\"\n",
      "   Groups: ('aaaa', 'aaaa', None)\n",
      "\n",
      "\n",
      "Matching \"a((a|b)+)\"\n",
      "    0 : 14 = \"abbaaabbbbaaaaa\"\n",
      "   Groups: ('bbaaabbbbaaaaa', 'a')\n",
      "\n"
     ]
    }
   ],
   "source": [
    "test_patterns('abbaaabbbbaaaaa',\n",
    "             [r'a((a+)|(b+))', # 'a' followed by a sequence of 'a' or sequence of 'b'\n",
    "              r'a((a|b)+)',    # 'a' followed by a sequence of 'a' or 'b'\n",
    "             ])"
   ]
  },
  {
   "cell_type": "markdown",
   "metadata": {},
   "source": [
    "When an alternative group is not matched, but the entire pattern does match, the return value of **`groups()`** includes a `None` value at the point in the sequence where the alternative group should appear.\n",
    "\n",
    "If you don't care some group, you can use *non-capturing* group syntax: `(?:pattern)`."
   ]
  },
  {
   "cell_type": "code",
   "execution_count": 56,
   "metadata": {
    "collapsed": false
   },
   "outputs": [
    {
     "name": "stdout",
     "output_type": "stream",
     "text": [
      "\n",
      "          11111\n",
      "012345678901234\n",
      "abbaaabbbbaaaaa\n",
      "\n",
      "Matching \"a((a+)|(b+))\"\n",
      "    0 :  2 = \"abb\"\n",
      "   Groups: ('bb', None, 'bb')\n",
      "\n",
      "    3 :  5 = \"aaa\"\n",
      "   Groups: ('aa', 'aa', None)\n",
      "\n",
      "   10 : 14 = \"aaaaa\"\n",
      "   Groups: ('aaaa', 'aaaa', None)\n",
      "\n",
      "\n",
      "Matching \"a((?:a+)|(?:b+))\"\n",
      "    0 :  2 = \"abb\"\n",
      "   Groups: ('bb',)\n",
      "\n",
      "    3 :  5 = \"aaa\"\n",
      "   Groups: ('aa',)\n",
      "\n",
      "   10 : 14 = \"aaaaa\"\n",
      "   Groups: ('aaaa',)\n",
      "\n"
     ]
    }
   ],
   "source": [
    "test_patterns('abbaaabbbbaaaaa',\n",
    "             [r'a((a+)|(b+))',     # capturing form\n",
    "              r'a((?:a+)|(?:b+))', # non-capturing\n",
    "             ])"
   ]
  }
 ],
 "metadata": {
  "kernelspec": {
   "display_name": "Python 2",
   "language": "python",
   "name": "python2"
  },
  "language_info": {
   "codemirror_mode": {
    "name": "ipython",
    "version": 2
   },
   "file_extension": ".py",
   "mimetype": "text/x-python",
   "name": "python",
   "nbconvert_exporter": "python",
   "pygments_lexer": "ipython2",
   "version": "2.7.11"
  }
 },
 "nbformat": 4,
 "nbformat_minor": 1
}
