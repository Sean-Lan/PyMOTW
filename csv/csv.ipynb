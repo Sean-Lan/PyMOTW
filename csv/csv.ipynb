{
 "cells": [
  {
   "cell_type": "markdown",
   "metadata": {},
   "source": [
    "# csv -- Comma-separated value files"
   ]
  },
  {
   "cell_type": "markdown",
   "metadata": {},
   "source": [
    "## Reading"
   ]
  },
  {
   "cell_type": "code",
   "execution_count": 7,
   "metadata": {
    "collapsed": false
   },
   "outputs": [
    {
     "name": "stdout",
     "output_type": "stream",
     "text": [
      "['Title 1', 'Title 2', 'Title 3']\n",
      "['1', 'a', '08/18/07']\n",
      "['2', 'b', '08/19/07']\n",
      "['3', 'c', '08/20/07']\n",
      "['4', 'd', '08/21/07']\n",
      "['5', 'e', '08/22/07']\n",
      "['6', 'f', '08/23/07']\n",
      "['7', 'g', '08/24/07']\n",
      "['8', 'h', '08/25/07']\n",
      "['9', 'i', '08/26/07']\n"
     ]
    }
   ],
   "source": [
    "import csv\n",
    "\n",
    "f = open('testdata.csv', 'rt')\n",
    "try:\n",
    "    reader = csv.reader(f)\n",
    "    for row in reader:\n",
    "        print row\n",
    "finally:\n",
    "    f.close()"
   ]
  },
  {
   "cell_type": "markdown",
   "metadata": {},
   "source": [
    "## Writing"
   ]
  },
  {
   "cell_type": "code",
   "execution_count": 8,
   "metadata": {
    "collapsed": false
   },
   "outputs": [
    {
     "name": "stdout",
     "output_type": "stream",
     "text": [
      "Title 1,Title 2,Title 3\r\n",
      "1,a,15/01/12\r\n",
      "2,b,15/02/12\r\n",
      "3,c,15/03/12\r\n",
      "4,d,15/04/12\r\n",
      "5,e,15/05/12\r\n",
      "6,f,15/06/12\r\n",
      "7,g,15/07/12\r\n",
      "8,h,15/08/12\r\n",
      "9,i,15/09/12\r\n",
      "10,j,15/10/12\r\n",
      "\n"
     ]
    }
   ],
   "source": [
    "import csv\n",
    "\n",
    "f = open('testout.csv', 'wt')\n",
    "try:\n",
    "    writer = csv.writer(f)\n",
    "    writer.writerow( ('Title 1', 'Title 2', 'Title 3') )\n",
    "    for i in range(10):\n",
    "        writer.writerow( (i+1, chr(ord('a') +i), '15/%02d/12'%(i+1)))\n",
    "finally:\n",
    "    f.close()\n",
    "    \n",
    "print open('testout.csv').read()"
   ]
  },
  {
   "cell_type": "code",
   "execution_count": 9,
   "metadata": {
    "collapsed": false
   },
   "outputs": [
    {
     "name": "stdout",
     "output_type": "stream",
     "text": [
      "\"Title 1\",\"Title 2\",\"Title 3\"\r\n",
      "1,\"a\",\"15/01/12\"\r\n",
      "2,\"b\",\"15/02/12\"\r\n",
      "3,\"c\",\"15/03/12\"\r\n",
      "4,\"d\",\"15/04/12\"\r\n",
      "5,\"e\",\"15/05/12\"\r\n",
      "6,\"f\",\"15/06/12\"\r\n",
      "7,\"g\",\"15/07/12\"\r\n",
      "8,\"h\",\"15/08/12\"\r\n",
      "9,\"i\",\"15/09/12\"\r\n",
      "10,\"j\",\"15/10/12\"\r\n",
      "\n"
     ]
    }
   ],
   "source": [
    "# add quotes around string\n",
    "import csv\n",
    "\n",
    "f = open('testout.csv', 'wt')\n",
    "try:\n",
    "    writer = csv.writer(f, quoting=csv.QUOTE_NONNUMERIC)\n",
    "    writer.writerow( ('Title 1', 'Title 2', 'Title 3') )\n",
    "    for i in range(10):\n",
    "        writer.writerow( (i+1, chr(ord('a') +i), '15/%02d/12'%(i+1)))\n",
    "finally:\n",
    "    f.close()\n",
    "    \n",
    "print open('testout.csv').read()"
   ]
  },
  {
   "cell_type": "markdown",
   "metadata": {},
   "source": [
    "## Dialects"
   ]
  },
  {
   "cell_type": "code",
   "execution_count": 10,
   "metadata": {
    "collapsed": false
   },
   "outputs": [
    {
     "name": "stdout",
     "output_type": "stream",
     "text": [
      "['excel-tab', 'excel']\n"
     ]
    }
   ],
   "source": [
    "import csv\n",
    "\n",
    "print csv.list_dialects()"
   ]
  },
  {
   "cell_type": "markdown",
   "metadata": {},
   "source": [
    "### Creating a Dialect"
   ]
  },
  {
   "cell_type": "code",
   "execution_count": 13,
   "metadata": {
    "collapsed": false
   },
   "outputs": [
    {
     "name": "stdout",
     "output_type": "stream",
     "text": [
      "['excel-tab', 'excel', 'pipes']\n",
      "['Title 1', 'Title 2', 'Title 3']\n",
      "['1', 'first line\\nsecond line', '08/18/07']\n"
     ]
    }
   ],
   "source": [
    "import csv\n",
    "\n",
    "csv.register_dialect('pipes', delimiter='|')\n",
    "print csv.list_dialects()\n",
    "\n",
    "with open('testdata.pipes', 'r') as f:\n",
    "    reader = csv.reader(f, dialect='pipes')\n",
    "    for row in reader:\n",
    "        print row"
   ]
  },
  {
   "cell_type": "code",
   "execution_count": 14,
   "metadata": {
    "collapsed": false
   },
   "outputs": [
    {
     "name": "stdout",
     "output_type": "stream",
     "text": [
      "\n",
      "Dialect: \"escaped\"\n",
      "\n",
      "  delimiter   = ','       skipinitialspace = 0\n",
      "  doublequote = 0         quoting          = QUOTE_NONE\n",
      "  quotechar   = '\"'       lineterminator   = '\\r\\n'\n",
      "  escapechar  = '\\\\'  \n",
      "\n",
      "col1,0,10/00/2010,Contains special chars: \\\" ' \\, to be parsed\r\n",
      "col1,1,10/01/2010,Contains special chars: \\\" ' \\, to be parsed\r\n",
      "col1,2,10/02/2010,Contains special chars: \\\" ' \\, to be parsed\r\n",
      "\n",
      "\n",
      "Dialect: \"excel\"\n",
      "\n",
      "  delimiter   = ','       skipinitialspace = 0\n",
      "  doublequote = 1         quoting          = QUOTE_MINIMAL\n",
      "  quotechar   = '\"'       lineterminator   = '\\r\\n'\n",
      "  escapechar  = None  \n",
      "\n",
      "col1,0,10/00/2010,\"Contains special chars: \"\" ' , to be parsed\"\r\n",
      "col1,1,10/01/2010,\"Contains special chars: \"\" ' , to be parsed\"\r\n",
      "col1,2,10/02/2010,\"Contains special chars: \"\" ' , to be parsed\"\r\n",
      "\n",
      "\n",
      "Dialect: \"excel-tab\"\n",
      "\n",
      "  delimiter   = '\\t'      skipinitialspace = 0\n",
      "  doublequote = 1         quoting          = QUOTE_MINIMAL\n",
      "  quotechar   = '\"'       lineterminator   = '\\r\\n'\n",
      "  escapechar  = None  \n",
      "\n",
      "col1\t0\t10/00/2010\t\"Contains special chars: \"\" ' \t to be parsed\"\r\n",
      "col1\t1\t10/01/2010\t\"Contains special chars: \"\" ' \t to be parsed\"\r\n",
      "col1\t2\t10/02/2010\t\"Contains special chars: \"\" ' \t to be parsed\"\r\n",
      "\n",
      "\n",
      "Dialect: \"pipes\"\n",
      "\n",
      "  delimiter   = '|'       skipinitialspace = 0\n",
      "  doublequote = 1         quoting          = QUOTE_MINIMAL\n",
      "  quotechar   = '\"'       lineterminator   = '\\r\\n'\n",
      "  escapechar  = None  \n",
      "\n",
      "col1|0|10/00/2010|\"Contains special chars: \"\" ' | to be parsed\"\r\n",
      "col1|1|10/01/2010|\"Contains special chars: \"\" ' | to be parsed\"\r\n",
      "col1|2|10/02/2010|\"Contains special chars: \"\" ' | to be parsed\"\r\n",
      "\n",
      "\n",
      "Dialect: \"singlequote\"\n",
      "\n",
      "  delimiter   = ','       skipinitialspace = 0\n",
      "  doublequote = 1         quoting          = QUOTE_ALL\n",
      "  quotechar   = \"'\"       lineterminator   = '\\r\\n'\n",
      "  escapechar  = None  \n",
      "\n",
      "'col1','0','10/00/2010','Contains special chars: \" '' , to be parsed'\r\n",
      "'col1','1','10/01/2010','Contains special chars: \" '' , to be parsed'\r\n",
      "'col1','2','10/02/2010','Contains special chars: \" '' , to be parsed'\r\n",
      "\n"
     ]
    }
   ],
   "source": [
    "import csv\n",
    "import sys\n",
    "\n",
    "csv.register_dialect('escaped', escapechar='\\\\', doublequote=False, quoting=csv.QUOTE_NONE)\n",
    "csv.register_dialect('singlequote', quotechar=\"'\", quoting=csv.QUOTE_ALL)\n",
    "\n",
    "quoting_modes = dict( (getattr(csv,n), n) for n in dir(csv) if n.startswith('QUOTE_') )\n",
    "\n",
    "for name in sorted(csv.list_dialects()):\n",
    "    print '\\nDialect: \"%s\"\\n' % name\n",
    "    dialect = csv.get_dialect(name)\n",
    "\n",
    "    print '  delimiter   = %-6r    skipinitialspace = %r' % (dialect.delimiter,\n",
    "                                                             dialect.skipinitialspace)\n",
    "    print '  doublequote = %-6r    quoting          = %s' % (dialect.doublequote,\n",
    "                                                             quoting_modes[dialect.quoting])\n",
    "    print '  quotechar   = %-6r    lineterminator   = %r' % (dialect.quotechar,\n",
    "                                                             dialect.lineterminator)\n",
    "    print '  escapechar  = %-6r' % dialect.escapechar\n",
    "    print\n",
    "    \n",
    "    writer = csv.writer(sys.stdout, dialect=dialect)\n",
    "    for i in xrange(3):\n",
    "        writer.writerow(\n",
    "            ('col1', i, '10/%02d/2010' % i,\n",
    "             'Contains special chars: \" \\' %s to be parsed' % dialect.delimiter)\n",
    "            )\n",
    "    print"
   ]
  },
  {
   "cell_type": "markdown",
   "metadata": {},
   "source": [
    "## Using Field Names"
   ]
  },
  {
   "cell_type": "code",
   "execution_count": 15,
   "metadata": {
    "collapsed": false
   },
   "outputs": [
    {
     "name": "stdout",
     "output_type": "stream",
     "text": [
      "{'Title 1': '1', 'Title 3': '08/18/07', 'Title 2': 'a'}\n",
      "{'Title 1': '2', 'Title 3': '08/19/07', 'Title 2': 'b'}\n",
      "{'Title 1': '3', 'Title 3': '08/20/07', 'Title 2': 'c'}\n",
      "{'Title 1': '4', 'Title 3': '08/21/07', 'Title 2': 'd'}\n",
      "{'Title 1': '5', 'Title 3': '08/22/07', 'Title 2': 'e'}\n",
      "{'Title 1': '6', 'Title 3': '08/23/07', 'Title 2': 'f'}\n",
      "{'Title 1': '7', 'Title 3': '08/24/07', 'Title 2': 'g'}\n",
      "{'Title 1': '8', 'Title 3': '08/25/07', 'Title 2': 'h'}\n",
      "{'Title 1': '9', 'Title 3': '08/26/07', 'Title 2': 'i'}\n"
     ]
    }
   ],
   "source": [
    "import csv\n",
    "\n",
    "f = open('testdata.csv', 'rt')\n",
    "try:\n",
    "    reader = csv.DictReader(f)\n",
    "    for row in reader:\n",
    "        print row\n",
    "finally:\n",
    "    f.close()"
   ]
  },
  {
   "cell_type": "code",
   "execution_count": 18,
   "metadata": {
    "collapsed": false
   },
   "outputs": [
    {
     "name": "stdout",
     "output_type": "stream",
     "text": [
      "Title 1,Title 2,Title 3\r\n",
      "1,a,2015/01/12\r\n",
      "2,b,2015/02/12\r\n",
      "3,c,2015/03/12\r\n",
      "4,d,2015/04/12\r\n",
      "5,e,2015/05/12\r\n",
      "6,f,2015/06/12\r\n",
      "7,g,2015/07/12\r\n",
      "8,h,2015/08/12\r\n",
      "9,i,2015/09/12\r\n",
      "10,j,2015/10/12\r\n",
      "\n"
     ]
    }
   ],
   "source": [
    "import csv\n",
    "\n",
    "f = open('testout.csv', 'wr')\n",
    "try:\n",
    "    fieldnames = ('Title 1', 'Title 2', 'Title 3')\n",
    "    writer = csv.DictWriter(f, fieldnames=fieldnames)\n",
    "    headers = dict( (n, n) for n in fieldnames)\n",
    "    writer.writerow(headers)\n",
    "    for i in range(10):\n",
    "        writer.writerow( {\n",
    "                'Title 1':i+1,\n",
    "                'Title 2':chr(ord('a')+i),\n",
    "                'Title 3':'2015/%02d/12' % (i+1),\n",
    "            })\n",
    "finally:\n",
    "    f.close()\n",
    "\n",
    "print open('testout.csv', 'rt').read()"
   ]
  }
 ],
 "metadata": {
  "kernelspec": {
   "display_name": "Python 2",
   "language": "python",
   "name": "python2"
  },
  "language_info": {
   "codemirror_mode": {
    "name": "ipython",
    "version": 2
   },
   "file_extension": ".py",
   "mimetype": "text/x-python",
   "name": "python",
   "nbconvert_exporter": "python",
   "pygments_lexer": "ipython2",
   "version": "2.7.10"
  }
 },
 "nbformat": 4,
 "nbformat_minor": 0
}
