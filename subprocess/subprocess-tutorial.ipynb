{
 "cells": [
  {
   "cell_type": "markdown",
   "metadata": {},
   "source": [
    "#Subprocess moudle tutorial\n",
    "\n",
    "Reference from [**PyMOTW**](http://pymotw.com/2/subprocess/index.html).\n",
    "\n",
    "The **`subprocess`** module provides a consistent interface to creating and working with additional processes. It offers a higher-level interface thatn some of the other available modules, and is intended to replace functions such as **`os.system()`**, **`os.spawn*()`**, **`os.popen*()`**, and **`commands.*()`**. To make it easier to compare **`subprocess`** with those other modules, many of the example here re-create the ones used for **`os`** and popen.\n",
    "\n",
    "The **`subprocess`** module defines one class, **`Popen`** and a few wrapper functions that use that class. The constructor for **`Popen`** takes arguments to set up the new process so the parent can communicate with it via pipes. It provides all of the functionality of the other modules and functions it replaces, and more. The API is consistence for all uses, and many of the extra steps of overhead needed (such as closing file descriptors and ensuring the pipes are closed) are \"built in\" instead of being handled by the application code separately."
   ]
  },
  {
   "cell_type": "markdown",
   "metadata": {},
   "source": [
    "#Running External Command\n",
    "\n",
    "To run an external command without interacting with it, such as one would do with [*os.system()*](http://pymotw.com/2/os/index.html#os-system), use the **`call()`** function."
   ]
  },
  {
   "cell_type": "code",
   "execution_count": null,
   "metadata": {
    "collapsed": false,
    "scrolled": true
   },
   "outputs": [],
   "source": [
    "import subprocess\n",
    "\n",
    "# Simple command\n",
    "subprocess.call(['ls', '-l'], shell=False)"
   ]
  },
  {
   "cell_type": "markdown",
   "metadata": {},
   "source": [
    "**Note:** The IPython notebook can only capture the output in the current process."
   ]
  },
  {
   "cell_type": "markdown",
   "metadata": {},
   "source": [
    "Setting the *shell* argument to a true value causes **`subproces`** to spawn an intermediate shell process, and tell it to run the command. The default is to run the command directly. Please see the [*thread*](http://stackoverflow.com/questions/11566967/python-raise-child-exception-oserror-errno-2-no-such-file-or-directory) on stackoverflow."
   ]
  },
  {
   "cell_type": "code",
   "execution_count": null,
   "metadata": {
    "collapsed": false
   },
   "outputs": [],
   "source": [
    "import subprocess\n",
    "\n",
    "# Command with shell expansion\n",
    "subprocess.call('echo $HOME', shell=True)"
   ]
  },
  {
   "cell_type": "markdown",
   "metadata": {},
   "source": [
    "#Error Handling\n",
    "\n",
    "The return value from **`call()`** is the exit code of the program. The caller is responsible for interpreting it to detect errors. The **`check_call()`** function works like **`call()`** except that the exit code is checked, and if it indicates an error happened then a **`CalledProcessError`** exception is raised."
   ]
  },
  {
   "cell_type": "code",
   "execution_count": null,
   "metadata": {
    "collapsed": false
   },
   "outputs": [],
   "source": [
    "import subprocess\n",
    "\n",
    "subprocess.check_call(['false'])"
   ]
  },
  {
   "cell_type": "markdown",
   "metadata": {},
   "source": [
    "##Capturing Output\n",
    "The standard input and output channels for the process started by call() are bound to the parent's input and output. That means the calling program cannot capture the output of the command. Use **`check_ouput()`** to capture the output for later processing."
   ]
  },
  {
   "cell_type": "code",
   "execution_count": null,
   "metadata": {
    "collapsed": false
   },
   "outputs": [],
   "source": [
    "import subprocess\n",
    "\n",
    "output = subprocess.check_output(['ls', '-l'])\n",
    "print 'Have %d bytes in output' % len(output)\n",
    "print output"
   ]
  },
  {
   "cell_type": "code",
   "execution_count": null,
   "metadata": {
    "collapsed": false
   },
   "outputs": [],
   "source": [
    "import subprocess\n",
    "output = subprocess.check_output(\n",
    "    'echo to stdout; echo to stderr 1>&2; exit 1',\n",
    "    shell = True,\n",
    "    )\n",
    "print 'Have %d bytes in output' % len(output)\n",
    "print output"
   ]
  },
  {
   "cell_type": "markdown",
   "metadata": {},
   "source": [
    "**Note:** When the subprocess exit without 0, a exception will be thrown."
   ]
  },
  {
   "cell_type": "markdown",
   "metadata": {},
   "source": [
    "#Working with Pipes Directly\n",
    "\n",
    "By passing different arguments for *`stdin`*, *`stdout`*, and *`stderr`* it is possible to mimic the variations of **`os.popen()`**.\n",
    "\n",
    "##popen\n",
    "\n",
    "To run a process and read all of its ouput, set the *`stdout`* value to **`PIPE`** and call **`communicate()`**."
   ]
  },
  {
   "cell_type": "code",
   "execution_count": null,
   "metadata": {
    "collapsed": false
   },
   "outputs": [],
   "source": [
    "import subprocess\n",
    "\n",
    "print '\\nread:'\n",
    "proc = subprocess.Popen(['echo', '\"to stdout\"'],\n",
    "                       stdout = subprocess.PIPE,\n",
    "                       )\n",
    "# communicate return (stdout, stderr)\n",
    "stdout_value = proc.communicate()[0]\n",
    "print '\\tstdout:', repr(stdout_value)"
   ]
  },
  {
   "cell_type": "markdown",
   "metadata": {},
   "source": [
    "To send data to the standard input channel of the process one time, pass the data to **`communicate()`**. This is similar to using **`popen()`** with mode '**`w`**'."
   ]
  },
  {
   "cell_type": "code",
   "execution_count": null,
   "metadata": {
    "collapsed": false
   },
   "outputs": [],
   "source": [
    "import subprocess\n",
    "\n",
    "print '\\nwrite:'\n",
    "proc = subprocess.Popen(['cat','-'],\n",
    "                        stdin=subprocess.PIPE,\n",
    "                       )\n",
    "proc.communicate('\\tstdin: Hello, Sean!\\n')\n",
    "print \"You won't see any thing because of IPython notebook(see above note.)\""
   ]
  },
  {
   "cell_type": "markdown",
   "metadata": {},
   "source": [
    "##popen2\n",
    "\n",
    "To set up the **`Popen`** instance for reading and writing, use a combination of the previous techniques."
   ]
  },
  {
   "cell_type": "code",
   "execution_count": null,
   "metadata": {
    "collapsed": false
   },
   "outputs": [],
   "source": [
    "import subprocess\n",
    "\n",
    "print '\\npopen2'\n",
    "\n",
    "proc = subprocess.Popen(['cat','-'],\n",
    "                        stdin=subprocess.PIPE,\n",
    "                        stdout=subprocess.PIPE,\n",
    "                       )\n",
    "stdout_value = proc.communicate('through stdin to stdout')[0]\n",
    "print '\\tpass through:', repr(stdout_value)"
   ]
  },
  {
   "cell_type": "markdown",
   "metadata": {},
   "source": [
    "##popen3\n",
    "\n",
    "It is also possible watch both of the streams of stdout and stderr.\n"
   ]
  },
  {
   "cell_type": "code",
   "execution_count": null,
   "metadata": {
    "collapsed": false
   },
   "outputs": [],
   "source": [
    "import subprocess\n",
    "\n",
    "print '\\npopen3'\n",
    "\n",
    "proc = subprocess.Popen('cat -; echo \"to stderr\" 1>&2',  # 1>&2 redirect stdout to stderr\n",
    "                        shell=True,                      # Important!\n",
    "                        stdin=subprocess.PIPE,\n",
    "                        stdout=subprocess.PIPE,\n",
    "                        stderr=subprocess.PIPE,\n",
    "                       )\n",
    "stdout_value, stderr_value = proc.communicate('through stdin to stdout')\n",
    "print '\\tpass through:', repr(stdout_value)\n",
    "print '\\tstderr      :', repr(stderr_value)"
   ]
  },
  {
   "cell_type": "markdown",
   "metadata": {},
   "source": [
    "##popen4\n",
    "\n",
    "To direct the error output from the process to its standard ouput channel, use **`STDOUT`** for *`stderr`* instead of **`PIPE`**."
   ]
  },
  {
   "cell_type": "code",
   "execution_count": null,
   "metadata": {
    "collapsed": false
   },
   "outputs": [],
   "source": [
    "import subprocess\n",
    "\n",
    "print '\\npopen4:'\n",
    "proc = subprocess.Popen('cat -; echo \"to stderr\" 1>&2',\n",
    "                        shell=True,\n",
    "                        stdin=subprocess.PIPE,\n",
    "                        stdout=subprocess.PIPE,\n",
    "                        stderr=subprocess.STDOUT,\n",
    "                       )\n",
    "stdout_value, stderr_value = proc.communicate('through stdin to stdout\\n')\n",
    "print '\\tcombined output:', repr(stdout_value)\n",
    "print '\\tstderr value   :', repr(stderr_value)"
   ]
  },
  {
   "cell_type": "markdown",
   "metadata": {},
   "source": [
    "#Connecting Segments of a Pipe\n",
    "\n",
    "Mutiple commands can be connected into a *pipeline*, similar to the way the Unix shell works, by creating separate **`Popen`** instances and chaining their inputs and outputs together. The **`stdout`** attribute of one **`Popen`** instance is used as the *stdin* argument for the next in the pipeline, instead of the constant **PIPE**. The output is read from the **`stdout`** handle for the final command in the pipeline."
   ]
  },
  {
   "cell_type": "code",
   "execution_count": null,
   "metadata": {
    "collapsed": false
   },
   "outputs": [],
   "source": [
    "import subprocess\n",
    "cat = subprocess.Popen(['cat', 'test.txt'],\n",
    "                       stdout=subprocess.PIPE,\n",
    "                       )\n",
    "\n",
    "grep1 = subprocess.Popen(['grep', 'Sean'],\n",
    "                        stdin=cat.stdout,\n",
    "                        stdout=subprocess.PIPE,\n",
    "                       )\n",
    "grep2 = subprocess.Popen(['grep', 'Lan'],\n",
    "                         stdin=grep1.stdout,\n",
    "                         stdout=subprocess.PIPE,\n",
    "                         )\n",
    "grep1_stdout = grep1.stdout\n",
    "grep2_stdout = grep2.stdout\n",
    "\n",
    "# print 'grep1 stdout:'\n",
    "# for line in grep1_stdout:\n",
    "#    print '\\t', line.strip()\n",
    "\n",
    "print 'grep2 stdout:'\n",
    "for line in grep2_stdout:\n",
    "    print '\\t', line.strip()\n",
    "                         "
   ]
  },
  {
   "cell_type": "markdown",
   "metadata": {},
   "source": [
    "#Interacting with Another Command\n",
    "\n",
    "All of the above examples assume a limited amount of interaction. The **`communicate()`** method reads all of the output and waits for child process to exit before returning. It is also possible to write to and read from the individual pipe handles used by the **`Popen`** instance. A simple echo program that reads from standard input and writes to standard output illustrates this:"
   ]
  },
  {
   "cell_type": "code",
   "execution_count": null,
   "metadata": {
    "collapsed": false
   },
   "outputs": [],
   "source": [
    "# %load repeater.py\n",
    "#!/usr/bin/python\n",
    "\n",
    "import sys\n",
    "sys.stderr.write('repeater.py: starting\\n')\n",
    "sys.stderr.flush()\n",
    "\n",
    "while True:\n",
    "    next_line = sys.stdin.readline()\n",
    "    if not next_line:\n",
    "        break\n",
    "    sys.stdout.write(next_line)\n",
    "    sys.stdout.flush()\n",
    "\n",
    "sys.stderr.write('repeater.py: exiting\\n')\n",
    "sys.stderr.flush()\n"
   ]
  },
  {
   "cell_type": "markdown",
   "metadata": {},
   "source": [
    "The script, `repeater.py`, writes to stderr when it starts and stops. That information can be used to show the lifetime of the child process.  \n",
    "**Note:** Please run this example in the terminal"
   ]
  },
  {
   "cell_type": "markdown",
   "metadata": {},
   "source": [
    "The next interaction example uses the stdin and stdout file handles owned by the **`Popen`** instance in different ways. In the first example, a sequence of 10 numbers are written to stdin of the process, and after each write the next line of output is read back. In the second example, the same 10 numbers are written but the output is read all at once using **`communicate()`**."
   ]
  },
  {
   "cell_type": "code",
   "execution_count": null,
   "metadata": {
    "collapsed": false
   },
   "outputs": [],
   "source": [
    "%load subprocess_repeater.py"
   ]
  },
  {
   "cell_type": "markdown",
   "metadata": {},
   "source": [
    "#Signaling Between Processes\n",
    "\n",
    "Since each Popen instance provides a *pid* attribute with the process id of the child process, it is possible to do some signaling between processes. For example, using this script for the child process to be executed by the parent process"
   ]
  },
  {
   "cell_type": "code",
   "execution_count": null,
   "metadata": {
    "collapsed": false
   },
   "outputs": [],
   "source": [
    "%load signal_child.py"
   ]
  },
  {
   "cell_type": "markdown",
   "metadata": {},
   "source": [
    "combined with this parent process"
   ]
  },
  {
   "cell_type": "code",
   "execution_count": null,
   "metadata": {
    "collapsed": false
   },
   "outputs": [],
   "source": [
    "%load subprocess_signal.py"
   ]
  },
  {
   "cell_type": "markdown",
   "metadata": {},
   "source": [
    "The output in shell terminal is as following:"
   ]
  },
  {
   "cell_type": "code",
   "execution_count": null,
   "metadata": {
    "collapsed": false
   },
   "outputs": [],
   "source": [
    "from IPython.display import Image\n",
    "Image(filename='images/signal.jpg')"
   ]
  },
  {
   "cell_type": "markdown",
   "metadata": {},
   "source": [
    "##Process Groups / Sessions\n",
    "\n",
    "Because of the way the process tree works under UNIX, if the process created by **`Popen`** spawns sub-processes, those children will not receive any signals sent to the parent. That means, for example, it will be difficult to cause them to terminate by sending **`SIGINT`** or **`SIGTERM`**."
   ]
  },
  {
   "cell_type": "code",
   "execution_count": null,
   "metadata": {
    "collapsed": true
   },
   "outputs": [],
   "source": [
    "%load subprocess_signal_parent_shell.py"
   ]
  },
  {
   "cell_type": "markdown",
   "metadata": {},
   "source": [
    "The pid used to send the signal does not match the pid of the child of the shell script waiting for the signal because in this example, there are three separate process interacting:\n",
    "1. `subprocess_signal_parent_shell.py`\n",
    "2. The Unix shell process running the script created by the main python program.\n",
    "3. `signal_child.py`"
   ]
  },
  {
   "cell_type": "code",
   "execution_count": null,
   "metadata": {
    "collapsed": false
   },
   "outputs": [],
   "source": [
    "from IPython.display import Image\n",
    "Image(filename='images/signal_parent_shell.jpg')"
   ]
  },
  {
   "cell_type": "markdown",
   "metadata": {},
   "source": [
    "The solution to this problem is to use a *process group* to associate the children so they can be signaled together. The process group is created with **`os.setsid()`**, settin gthe \"session id\" to the process id of the current process. All child processes inherit the session id, and since it should only be set in the shell created by **`Popen`** and its descentants, **`os.setsid()`** should not be called in the parent process. Instead, the function is passed to **`Popen`** as the *`preexec_fn`* argument so it is run after the **`fork()`** inside the new process, before it uses **`exec()`** to run the shell."
   ]
  },
  {
   "cell_type": "code",
   "execution_count": null,
   "metadata": {
    "collapsed": true
   },
   "outputs": [],
   "source": [
    "%load subprocess_signal_parent_group_shell.py"
   ]
  },
  {
   "cell_type": "markdown",
   "metadata": {},
   "source": [
    "The sequence of events is:\n",
    "   1. The parent program instantiates **`Popen`**.\n",
    "   2. The **`Popen`** instance forks a new process.\n",
    "   3. The new process runs **`os.setsid()`**.\n",
    "   4. The new process runs **`exec()`** to start the shell.\n",
    "   5. The shell runs the shell script.\n",
    "   6. The shell script forks again and that process execs Python.\n",
    "   7. Python runs `signal_child.py`.\n",
    "   8. The parent program signals the process group using the pid of the shell.\n",
    "   9. The shell and Python process receive the signal. The shell ignores it. Python invokes the signal handler.\n",
    "\n",
    "To singal the entire process group, use **`os.killpg()`** with the pid value from the **`Popen`** instance."
   ]
  },
  {
   "cell_type": "code",
   "execution_count": null,
   "metadata": {
    "collapsed": false
   },
   "outputs": [],
   "source": [
    "from IPython.display import Image\n",
    "Image(filename='images/signal_parent_group_shell.jpg')"
   ]
  }
 ],
 "metadata": {
  "kernelspec": {
   "display_name": "Python 2",
   "language": "python",
   "name": "python2"
  },
  "language_info": {
   "codemirror_mode": {
    "name": "ipython",
    "version": 2
   },
   "file_extension": ".py",
   "mimetype": "text/x-python",
   "name": "python",
   "nbconvert_exporter": "python",
   "pygments_lexer": "ipython2",
   "version": "2.7.6"
  }
 },
 "nbformat": 4,
 "nbformat_minor": 0
}
