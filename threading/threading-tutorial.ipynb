{
 "cells": [
  {
   "cell_type": "markdown",
   "metadata": {},
   "source": [
    "#threading - Manage concurrent threads\n",
    "The **`threading`** module builds on the low-level features of **`thread`** to make working with threads even easier and more *pythonic*. Using threads allows a program to run multiple operations concurrently in the same process space."
   ]
  },
  {
   "cell_type": "markdown",
   "metadata": {},
   "source": [
    "##Thread Objects\n",
    "The simplest way to use a **`Thread`** is to instantiate it with a target function and call **`start()`** to let it begin working."
   ]
  },
  {
   "cell_type": "code",
   "execution_count": 2,
   "metadata": {
    "collapsed": false
   },
   "outputs": [
    {
     "name": "stdout",
     "output_type": "stream",
     "text": [
      "Worker\n",
      "Worker\n",
      "Worker\n",
      "Worker\n",
      "Worker\n"
     ]
    }
   ],
   "source": [
    "# %load threading_simple.py\n",
    "import threading\n",
    "\n",
    "def worker():\n",
    "    \"\"\"thread worker function\"\"\"\n",
    "    print 'Worker'\n",
    "    return\n",
    "\n",
    "threads = []\n",
    "for i in range(5):\n",
    "    t = threading.Thread(target=worker)\n",
    "    threads.append(t)\n",
    "    t.start()\n"
   ]
  },
  {
   "cell_type": "markdown",
   "metadata": {},
   "source": [
    "It is useful to be able to spawn a thread and pass it arguments to tell it what work to do. This example passes a number, which the thread then prints."
   ]
  },
  {
   "cell_type": "code",
   "execution_count": 4,
   "metadata": {
    "collapsed": false
   },
   "outputs": [
    {
     "name": "stdout",
     "output_type": "stream",
     "text": [
      "Worker: 0\n",
      "Worker: 1\n",
      "Worker: 2\n",
      "Worker: 3\n",
      "Worker: 4\n"
     ]
    }
   ],
   "source": [
    "# %load threading_simpleargs.py\n",
    "import threading\n",
    "\n",
    "def worker(num):\n",
    "    \"\"\"thread worker function\"\"\"\n",
    "    print 'Worker: %s' % num\n",
    "    return\n",
    "\n",
    "threads = []\n",
    "for i in range(5):\n",
    "    t = threading.Thread(target=worker, args=(i,))\n",
    "    threads.append(t)\n",
    "    t.start()\n"
   ]
  },
  {
   "cell_type": "markdown",
   "metadata": {},
   "source": [
    "##Determing the Current Thread\n",
    "Using arguments to identify or name the thread is cumbersome, and unnecessary. Each **`Thead`** instance has a name with a default value that can be changed as the thread is created. Naming threads is useful in server processes with multiple service threads handling different operations."
   ]
  },
  {
   "cell_type": "code",
   "execution_count": 20,
   "metadata": {
    "collapsed": false
   },
   "outputs": [
    {
     "name": "stdout",
     "output_type": "stream",
     "text": [
      "worker Starting\n",
      "Thread-20 Starting\n",
      "Thread-21 Starting\n",
      "my_service Starting\n",
      "worker Thread-21 Exiting\n",
      "Thread-20 Exiting\n",
      "Exiting\n",
      "my_service Exiting\n"
     ]
    }
   ],
   "source": [
    "# %load threading_names.py\n",
    "import threading\n",
    "import time\n",
    "\n",
    "def worker():\n",
    "    print threading.currentThread().getName(), 'Starting'\n",
    "    time.sleep(2)\n",
    "    print threading.currentThread().getName(), 'Exiting'\n",
    "\n",
    "def my_service():\n",
    "    print threading.currentThread().getName(), 'Starting'\n",
    "    time.sleep(3)\n",
    "    print threading.currentThread().getName(), 'Exiting'\n",
    "\n",
    "t = threading.Thread(name='my_service', target=my_service)\n",
    "w = threading.Thread(name='worker', target=worker)\n",
    "w2 = threading.Thread(target=worker)                        # use default name\n",
    "w3 = threading.Thread(target=worker)                        # use default name\n",
    "\n",
    "w.start()\n",
    "w2.start()\n",
    "w3.start()\n",
    "t.start()\n"
   ]
  },
  {
   "cell_type": "markdown",
   "metadata": {},
   "source": [
    "The debug output includes the name of the current thread on each line. The lines with \"Thread-XX\" in the thread name column correspond to the unamed theads `w2` and `w3`.  \n",
    "**Note:** The number in thread name may change because IPython notebook records every thread."
   ]
  },
  {
   "cell_type": "markdown",
   "metadata": {},
   "source": [
    "Most programs do not use **`print`** to debug. The **`logging`** moudule supports embedding the thread name in every log message using the formatter code `(threadName)s`. Including threading names in log messages makes it easier to trace those messages back to their source."
   ]
  },
  {
   "cell_type": "code",
   "execution_count": 21,
   "metadata": {
    "collapsed": true
   },
   "outputs": [],
   "source": [
    "# %load threading_names_log.py\n",
    "import logging\n",
    "import threading\n",
    "import time\n",
    "\n",
    "logging.basicConfig(level=logging.DEBUG,\n",
    "                    format='[%(levelname)s] (%(threadName)-10s) %(message)s',\n",
    "                    )\n",
    "\n",
    "def worker():\n",
    "    logging.debug('Starting')\n",
    "    time.sleep(2)\n",
    "    logging.debug('Exiting')\n",
    "\n",
    "def my_service():\n",
    "    logging.debug('Starting')\n",
    "    time.sleep(3)\n",
    "    logging.debug('Exiting')\n",
    "\n",
    "t = threading.Thread(name='my_service', target=my_service)\n",
    "w = threading.Thread(name='worker', target=worker)\n",
    "w2 = threading.Thread(target=worker)                        # use default name\n",
    "\n",
    "w.start()\n",
    "w2.start()\n",
    "t.start()\n"
   ]
  },
  {
   "cell_type": "markdown",
   "metadata": {},
   "source": [
    "**`logging`** is also thread-safe, so messages from different threads are kept distinct in the output.  \n",
    "The output is as follow: \n",
    "  \n",
    "``$ python threading_names_log.py  \n",
    "[DEBUG] (worker    ) Starting  \n",
    "[DEBUG] (Thread-1  ) Starting  \n",
    "[DEBUG] (my_service) Starting   \n",
    "[DEBUG] (Thread-1  ) Exiting  \n",
    "[DEBUG] (worker    ) Exiting  \n",
    "[DEBUG] (my_service) Exiting``"
   ]
  },
  {
   "cell_type": "markdown",
   "metadata": {},
   "source": [
    "##Daemon vs. Non-Daemon Threads\n",
    "Up to this point, the example programs have implicitly waited to exit until all threads have completed their work. Sometimes programs spawn a thread as a *daemon* that runs without blocking the main program from exiting. Using daemon threads is useful for services where there may not be an easy way to interrupt the thread or where letting the thread die in the middle of its work does not lose or corrupt data (for example, a thread that generates \"heart beats\" for a service monitoring tool). To mark a thread as a daemon, call its **`setDeamon()`** method with a boolean argument. The default is for threads to not be daemons, so passing True turns the daemon mode on."
   ]
  },
  {
   "cell_type": "code",
   "execution_count": 16,
   "metadata": {
    "collapsed": true
   },
   "outputs": [],
   "source": [
    "# %load threading_daemon.py\n",
    "import threading\n",
    "import time\n",
    "import logging\n",
    "\n",
    "logging.basicConfig(level=logging.DEBUG,\n",
    "                    format='(%(threadName)-10s) %(message)s',\n",
    "                    )\n",
    "\n",
    "def daemon():\n",
    "    logging.debug('Starting')\n",
    "    time.sleep(2)\n",
    "    logging.debug('Exiting')\n",
    "\n",
    "d = threading.Thread(name='daemon', target=daemon)\n",
    "d.setDaemon(True)\n",
    "\n",
    "def non_daemon():\n",
    "    logging.debug('Starting')\n",
    "    logging.debug('Exiting')\n",
    "\n",
    "t = threading.Thread(name='non-daemon', target=non_daemon)\n",
    "\n",
    "d.start()\n",
    "t.start()\n"
   ]
  },
  {
   "cell_type": "markdown",
   "metadata": {},
   "source": [
    "Notice that the output does not include the \"Exiting\" message from the daemon thread, since all of the non-daemon threads (including the mian thread) exit before the deamon thread wakes up from its two seconds sleep.  \n",
    "The output is as follow:  \n",
    "  \n",
    "``$ python threading_daemon.py  \n",
    "(daemon    ) Starting  \n",
    "(non-daemon) Starting  \n",
    "(non-daemon) Exiting``"
   ]
  },
  {
   "cell_type": "markdown",
   "metadata": {},
   "source": [
    "To wait until a daemon thread has completed its work, use the **`join()`** method."
   ]
  },
  {
   "cell_type": "code",
   "execution_count": 20,
   "metadata": {
    "collapsed": true
   },
   "outputs": [],
   "source": [
    "# %load threading_daemon_join.py\n",
    "import threading\n",
    "import time\n",
    "import logging\n",
    "\n",
    "logging.basicConfig(level=logging.DEBUG,\n",
    "                    format='(%(threadName)-10s) %(message)s',\n",
    "                    )\n",
    "\n",
    "def daemon():\n",
    "    logging.debug('Starting')\n",
    "    time.sleep(2)\n",
    "    logging.debug('Exiting')\n",
    "\n",
    "d = threading.Thread(name='daemon', target=daemon)\n",
    "d.setDaemon(True)\n",
    "\n",
    "def non_daemon():\n",
    "    logging.debug('Starting')\n",
    "    logging.debug('Exiting')\n",
    "\n",
    "t = threading.Thread(name='non-daemon', target=non_daemon)\n",
    "\n",
    "d.start()\n",
    "t.start()\n",
    "\n",
    "d.join()\n",
    "t.join()\n"
   ]
  },
  {
   "cell_type": "markdown",
   "metadata": {},
   "source": [
    "Waiting for the daemon thread to exit using **`join()`** means it has a chance to produce its \"Exiting\" message.  \n",
    "  \n",
    "``$ python threading_daemon_join.py   \n",
    "(daemon    ) Starting  \n",
    "(non-daemon) Starting  \n",
    "(non-daemon) Exiting  \n",
    "(daemon    ) Exiting``"
   ]
  },
  {
   "cell_type": "markdown",
   "metadata": {},
   "source": [
    "By default, **`join()`** blocks indefinitely. It is also possible to pass a timeout argument (a float representing the number of seconds to wait for the thread to become inactive). If the thread does not complete within the timeout period, **`join()`** returns anyway."
   ]
  },
  {
   "cell_type": "code",
   "execution_count": 22,
   "metadata": {
    "collapsed": false
   },
   "outputs": [
    {
     "name": "stdout",
     "output_type": "stream",
     "text": [
      "d.isAlive() True\n"
     ]
    }
   ],
   "source": [
    "# %load threading_daemon_join_timeout.py\n",
    "import threading\n",
    "import time\n",
    "import logging\n",
    "\n",
    "logging.basicConfig(level=logging.DEBUG,\n",
    "                    format='(%(threadName)-10s) %(message)s',\n",
    "                    )\n",
    "\n",
    "def daemon():\n",
    "    logging.debug('Starting')\n",
    "    time.sleep(2)\n",
    "    logging.debug('Exiting')\n",
    "\n",
    "d = threading.Thread(name='daemon', target=daemon)\n",
    "d.setDaemon(True)\n",
    "\n",
    "def non_daemon():\n",
    "    logging.debug('Starting')\n",
    "    logging.debug('Exiting')\n",
    "\n",
    "t = threading.Thread(name='non-daemon', target=non_daemon)\n",
    "\n",
    "d.start()\n",
    "t.start()\n",
    "\n",
    "d.join(1)\n",
    "print 'd.isAlive()', d.isAlive()\n",
    "t.join()\n"
   ]
  },
  {
   "cell_type": "markdown",
   "metadata": {},
   "source": [
    "Since the timeout passed is less than the amount of time the daemon thread sleeps, the thread is still \"alive\" after **`join()`** returns.  \n",
    "  \n",
    "``$ python threading_daemon_join_timeout.py  \n",
    "(daemon    ) Starting  \n",
    "(non-daemon) Starting  \n",
    "(non-daemon) Exiting  \n",
    "d.isAlive() True``\n"
   ]
  },
  {
   "cell_type": "markdown",
   "metadata": {},
   "source": [
    "##Enumerating All Threads\n",
    "It is not necessary to retain an explicit handle to all the daemon threads in order to ensure they have completed before exiting the main process.  \n",
    "**`enumerate()`** returns a list of active **`Thread`** instances. The list includes the current thread, and since joining the current thread is not allowed (it introduces a deadlock situation), it must be skipped."
   ]
  },
  {
   "cell_type": "code",
   "execution_count": null,
   "metadata": {
    "collapsed": true
   },
   "outputs": [],
   "source": [
    "# %load threading_enumerate.py\n",
    "import random\n",
    "import threading\n",
    "import time\n",
    "import logging\n",
    "\n",
    "logging.basicConfig(level=logging.DEBUG,\n",
    "                    format='(%(threadName)-10s) %(message)s',\n",
    "                    )\n",
    "\n",
    "def worker():\n",
    "    \"\"\"thread worker function\"\"\"\n",
    "    t = threading.currentThread()\n",
    "    pause = random.randint(1, 5)\n",
    "    logging.debug('sleeping %s', pause)\n",
    "    time.sleep(pause)\n",
    "    logging.debug('ending')\n",
    "    return\n",
    "\n",
    "for i in range(3):\n",
    "    t = threading.Thread(target=worker)\n",
    "    t.setDaemon(True)\n",
    "    t.start()\n",
    "\n",
    "main_thread = threading.currentThread()\n",
    "for t in threading.enumerate():\n",
    "    if t is main_thread:\n",
    "        continue\n",
    "    logging.debug('joining %s', t.getName())\n",
    "    t.join()\n"
   ]
  },
  {
   "cell_type": "markdown",
   "metadata": {},
   "source": [
    "Since the worker is sleeping for a random amount of time, the output from this program may vary. It should look something like this:  \n",
    "  \n",
    "``$ python threading_enumerate.py  \n",
    "(Thread-1  ) sleeping 3  \n",
    "(Thread-2  ) sleeping 4  \n",
    "(Thread-3  ) sleeping 4  \n",
    "(MainThread) joining Thread-1  \n",
    "(Thread-1  ) ending  \n",
    "(MainThread) joining Thread-3  \n",
    "(Thread-2  ) ending  \n",
    "(Thread-3  ) ending  \n",
    "(MainThread) joining Thread-2``"
   ]
  },
  {
   "cell_type": "markdown",
   "metadata": {},
   "source": [
    "##Subclassing Thread\n",
    "At start-up, a **`Thread`** does some basic initialization and then calls its **`run()`** method, which calls the target function passed to the constructor. To create a subclass of **`Thread`**, override **`run()`** to do whatever is necesssary."
   ]
  },
  {
   "cell_type": "code",
   "execution_count": 3,
   "metadata": {
    "collapsed": true
   },
   "outputs": [],
   "source": [
    "# %load threading_subclass.py\n",
    "import threading\n",
    "import logging\n",
    "\n",
    "logging.basicConfig(level=logging.DEBUG,\n",
    "                    format='(%(threadName)-10s) %(message)s',\n",
    "                    )\n",
    "\n",
    "class MyThread(threading.Thread):\n",
    "    def run(self):\n",
    "        logging.debug('running')\n",
    "        return\n",
    "\n",
    "for i in range(5):\n",
    "    t = MyThread()\n",
    "    t.start()\n"
   ]
  },
  {
   "cell_type": "markdown",
   "metadata": {},
   "source": [
    "The return value of **`run()`** is ignored.  \n",
    "  \n",
    "``$ python threading_subclass.py  \n",
    "(Thread-1  ) running  \n",
    "(Thread-2  ) running  \n",
    "(Thread-3  ) running  \n",
    "(Thread-4  ) running  \n",
    "(Thread-5  ) running``"
   ]
  },
  {
   "cell_type": "markdown",
   "metadata": {},
   "source": [
    "Because the *args* and *kwargs* values passed to the **`Thread`** constructor are saved in private variables, they are not easily accessed from a subclass. To pass arguments to a custom thread type, redefine the constructor to save the values in an instance attribute that can be seen in the subclass."
   ]
  },
  {
   "cell_type": "code",
   "execution_count": 5,
   "metadata": {
    "collapsed": true
   },
   "outputs": [],
   "source": [
    "# %load threading_subclass_args.py\n",
    "import threading\n",
    "import logging\n",
    "\n",
    "logging.basicConfig(level=logging.DEBUG,\n",
    "                    format='(%(threadName)-10s) %(message)s',\n",
    "                    )\n",
    "\n",
    "class MyThreadWithArgs(threading.Thread):\n",
    "    def __init__(self, group=None, target=None, name=None,\n",
    "                    args=(), kwargs=None, verbose=None):\n",
    "        threading.Thread.__init__(self, group=group, target=target,\n",
    "                                    verbose=verbose)\n",
    "        self.args = args\n",
    "        self.kwargs = kwargs\n",
    "        return\n",
    "\n",
    "    def run(self):\n",
    "        logging.debug('running with %s and %s', self.args, self.kwargs)\n",
    "        return\n",
    "\n",
    "for i in range(5):\n",
    "    t = MyThreadWithArgs(args=(i,), kwargs={'a':'A', 'b':'B'})\n",
    "    t.start()\n"
   ]
  },
  {
   "cell_type": "markdown",
   "metadata": {},
   "source": [
    "The ouput is as follow:  \n",
    "  \n",
    "``$ python threading_subclass_args.py  \n",
    "(Thread-1  ) running with (0,) and {'a': 'A', 'b': 'B'}  \n",
    "(Thread-2  ) running with (1,) and {'a': 'A', 'b': 'B'}  \n",
    "(Thread-3  ) running with (2,) and {'a': 'A', 'b': 'B'}  \n",
    "(Thread-4  ) running with (3,) and {'a': 'A', 'b': 'B'}  \n",
    "(Thread-5  ) running with (4,) and {'a': 'A', 'b': 'B'}``"
   ]
  },
  {
   "cell_type": "markdown",
   "metadata": {},
   "source": [
    "##Timer Threads\n",
    "One example of a reason to subclass **`Thread`** is provided by **`Time`**, also included in **`Threading`**. A **`Timer`** starts its work after a delay, and can be canceled at any point within that delay time period.  "
   ]
  },
  {
   "cell_type": "code",
   "execution_count": null,
   "metadata": {
    "collapsed": true
   },
   "outputs": [],
   "source": [
    "# %load threading_timer.py\n",
    "import threading\n",
    "import time\n",
    "import logging\n",
    "\n",
    "logging.basicConfig(level=logging.DEBUG,\n",
    "                    format='(%(threadName)-10s) %(message)s',\n",
    "                    )\n",
    "\n",
    "def delayed():\n",
    "    logging.debug('worker running')\n",
    "    return\n",
    "\n",
    "t1 = threading.Timer(3, delayed)\n",
    "t1.setName('t1')\n",
    "t2 = threading.Timer(3, delayed)\n",
    "t2.setName('t2')\n",
    "\n",
    "logging.debug('starting timers')\n",
    "t1.start()\n",
    "t2.start()\n",
    "\n",
    "logging.debug('waiting before canceling %s', t2.getName())\n",
    "time.sleep(2)\n",
    "logging.debug('cancaling %s', t2.getName())\n",
    "t2.cancel()\n",
    "logging.debug('done')\n"
   ]
  },
  {
   "cell_type": "markdown",
   "metadata": {},
   "source": [
    "Notice that the second timer is never run, and the first timer appears to run after the rest of the main program is done. Since it is not a daemon thread, it is joined implicitly when the main thread is done.  \n",
    "  \n",
    "``$ python threading_timer.py   \n",
    "(MainThread) starting timers  \n",
    "(MainThread) waiting before canceling t2  \n",
    "(MainThread) cancaling t2  \n",
    "(MainThread) done  \n",
    "(t1        ) worker running`` "
   ]
  },
  {
   "cell_type": "markdown",
   "metadata": {},
   "source": [
    "##Signaling Between Threads\n",
    "Although the point of using multiple threads is to spin separate operations off to run concurrently, there are times when it is important to be able to synchronize the operations in two or more threads. A simple way to communicate between threads is using **`Event`** objects. An **`Event`** manages an internal flag that callers can either **`set()`** or **`clear()`**. Other threads can **`wait()`** for the flag to be **`set()`**, effectively blocking progress until allowed to continue."
   ]
  },
  {
   "cell_type": "code",
   "execution_count": null,
   "metadata": {
    "collapsed": true
   },
   "outputs": [],
   "source": [
    "# %load threading_event.py\n",
    "import logging\n",
    "import threading\n",
    "import time\n",
    "\n",
    "logging.basicConfig(level=logging.DEBUG,\n",
    "                    format='(%(threadName)-10s) %(message)s',\n",
    "                    )\n",
    "\n",
    "def wait_for_event(e):\n",
    "    \"\"\"Wait for the event to be set before doing anything\"\"\"\n",
    "    logging.debug('wait_for_event starting')\n",
    "    event_is_set = e.wait()\n",
    "    logging.debug('event set: %s', event_is_set)\n",
    "\n",
    "def wait_for_event_timeout(e, t):\n",
    "    \"\"\"Wait t seconds and then timeout\"\"\"\n",
    "    while not e.isSet():\n",
    "        logging.debug('wait_for_event_timeout starting')\n",
    "        event_is_set = e.wait(t)\n",
    "        logging.debug('event set: %s', event_is_set)\n",
    "        if event_is_set:\n",
    "            logging.debug('processing event')\n",
    "        else:\n",
    "            logging.debug('doing other work')\n",
    "\n",
    "e = threading.Event()\n",
    "t1 = threading.Thread(name='block',\n",
    "                        target=wait_for_event,\n",
    "                        args=(e,))\n",
    "t1.start()\n",
    "\n",
    "t2 = threading.Thread(name='non-block',\n",
    "                        target=wait_for_event_timeout,\n",
    "                        args=(e,2))\n",
    "t2.start()\n",
    "\n",
    "logging.debug('Waiting before calling Event.set()')\n",
    "time.sleep(3)\n",
    "e.set()\n",
    "logging.debug('Event is set')\n"
   ]
  },
  {
   "cell_type": "markdown",
   "metadata": {},
   "source": [
    "The **`wait()`** method takes an argument representing the number of seconds to wait for the event before timing out. It returns a boolean indicating whether or not the event is set, so the caller knows why **`wait()`** returned. The **`isSet()`** method can be used separately on the event without fear of blocking.  \n",
    "\n",
    "In this example, **`wait_for_event_timeout()`** checks the event status without blocking indefinitely. The **`wait_for_event()`** blocks on the call to **`wait()`**, which does not return until the event status changes.  \n",
    "  \n",
    "``$ python threading_event.py  \n",
    "(block     ) wait_for_event starting  \n",
    "(non-block ) wait_for_event_timeout starting  \n",
    "(MainThread) Waiting before calling Event.set()  \n",
    "(non-block ) event set: False  \n",
    "(non-block ) doing other work  \n",
    "(non-block ) wait_for_event_timeout starting  \n",
    "(MainThread) Event is set  \n",
    "(block     ) event set: True  \n",
    "(non-block ) event set: True  \n",
    "(non-block ) processing event``"
   ]
  },
  {
   "cell_type": "markdown",
   "metadata": {},
   "source": [
    "##Controlling Access to Resources\n",
    "In addition to synchronizing the operations of threads, it is also important to be able to control access to shared resources to prevent corruption or missed data. Python's built-in data structures (lists, dictionaries, etc.) are thread-safe as a side-effect of having atomic byte-codes for manuplating them (the GIL is not released in the middle of an update). Other data structures implemented in Python, or simpler types like integers and floats, don't have that protection. To guard against simultaneous access to an object, use a **`Lock`** object."
   ]
  },
  {
   "cell_type": "code",
   "execution_count": null,
   "metadata": {
    "collapsed": true
   },
   "outputs": [],
   "source": [
    "# %load threading_lock.py\n",
    "import logging\n",
    "import random\n",
    "import threading\n",
    "import time\n",
    "\n",
    "logging.basicConfig(level=logging.DEBUG,\n",
    "                    format='(%(threadName)-10s) %(message)s',\n",
    "                    )\n",
    "\n",
    "class Counter(object):\n",
    "    def __init__(self, start=0):\n",
    "        self.lock = threading.Lock()\n",
    "        self.value = start\n",
    "    def increment(self):\n",
    "        logging.debug('Waiting for lock')\n",
    "        self.lock.acquire()\n",
    "        try:\n",
    "            logging.debug('Acquired lock')\n",
    "            self.value = self.value + 1\n",
    "        finally:\n",
    "            self.lock.release()\n",
    "\n",
    "def worker(c):\n",
    "    for i in range(2):\n",
    "        pause = random.random()\n",
    "        logging.debug('Sleeping %0.02f', pause)\n",
    "        time.sleep(pause)\n",
    "        c.increment()\n",
    "    logging.debug('Done')\n",
    "\n",
    "counter = Counter()\n",
    "for i in range(2):\n",
    "    t = threading.Thread(target=worker, args=(counter,))\n",
    "    t.start()\n",
    "\n",
    "logging.debug('Waiting for worker threads')\n",
    "main_thread = threading.currentThread()\n",
    "for t in threading.enumerate():\n",
    "    if t is not main_thread:\n",
    "        t.join()\n",
    "logging.debug('Counter: %d', counter.value)\n"
   ]
  },
  {
   "cell_type": "markdown",
   "metadata": {},
   "source": [
    "In this example, the **`worker()`** function increments a **`Counter`** instance, which manages a **`Lock`** to prevent two threads from changing its internal state at the same time. If the **`Lock`** was not used, there is a possibility of missing a change to the value attribute.  \n",
    "  \n",
    "``$ python threading_lock.py  \n",
    "(Thread-1  ) Sleeping 0.63  \n",
    "(Thread-2  ) Sleeping 0.37  \n",
    "(MainThread) Waiting for worker threads  \n",
    "(Thread-2  ) Waiting for lock  \n",
    "(Thread-2  ) Acquired lock  \n",
    "(Thread-2  ) Sleeping 0.44  \n",
    "(Thread-1  ) Waiting for lock  \n",
    "(Thread-1  ) Acquired lock  \n",
    "(Thread-1  ) Sleeping 0.24  \n",
    "(Thread-2  ) Waiting for lock  \n",
    "(Thread-2  ) Acquired lock  \n",
    "(Thread-2  ) Done  \n",
    "(Thread-1  ) Waiting for lock  \n",
    "(Thread-1  ) Acquired lock  \n",
    "(Thread-1  ) Done  \n",
    "(MainThread) Counter: 4``"
   ]
  },
  {
   "cell_type": "markdown",
   "metadata": {},
   "source": [
    "To find out whether another thread has acquired the lock without holding up the current thread, pass False for the *blocking* argument to **`acquire()`**. In the next example, **`worker()`** tries to make to do so. In the mean time, **`lock_holder()`** cycles between holding and releasing the lock, with short pauses in each state used to simulate load."
   ]
  },
  {
   "cell_type": "code",
   "execution_count": null,
   "metadata": {
    "collapsed": true
   },
   "outputs": [],
   "source": [
    "# %load threading_lock_noblock.py\n",
    "import logging\n",
    "import threading\n",
    "import time\n",
    "\n",
    "logging.basicConfig(level=logging.DEBUG,\n",
    "                    format='(%(threadName)-10s) %(message)s',\n",
    "                    )\n",
    "\n",
    "def lock_holder(lock):\n",
    "    logging.debug('Starting')\n",
    "    while True:\n",
    "        lock.acquire()\n",
    "        try:\n",
    "            logging.debug('Holding')\n",
    "            time.sleep(0.5)\n",
    "        finally:\n",
    "            logging.debug('Not holding')\n",
    "            lock.release()\n",
    "        time.sleep(0.5)\n",
    "    return\n",
    "\n",
    "def worker(lock):\n",
    "    logging.debug('Starting')\n",
    "    num_tries = 0\n",
    "    num_acquires = 0\n",
    "    while num_acquires < 3:\n",
    "        time.sleep(1)\n",
    "        logging.debug('Trying to acquire')\n",
    "        have_it = lock.acquire(0)\n",
    "        try:\n",
    "            num_tries += 1\n",
    "            if have_it:\n",
    "                logging.debug('Iteration %d: Acquired', num_tries)\n",
    "                num_acquires += 1\n",
    "            else:\n",
    "                logging.debug('Iteration %d: Not acquired', num_tries)\n",
    "        finally:\n",
    "            if have_it:\n",
    "                lock.release()\n",
    "    logging.debug('Done after %d iterations', num_tries)\n",
    "\n",
    "lock =threading.Lock()\n",
    "holder = threading.Thread(target=lock_holder, args=(lock,), name='LockHolder')\n",
    "holder.setDaemon(True)\n",
    "holder.start()\n",
    "\n",
    "worker = threading.Thread(target=worker, args=(lock,), name='Worker')\n",
    "worker.start()\n"
   ]
  },
  {
   "cell_type": "markdown",
   "metadata": {},
   "source": [
    "It takes **`worker()`** more than three iterations to acquire the lock three separate times.  \n",
    "  \n",
    "``$ python threading_lock_noblock.py  \n",
    "(LockHolder) Starting  \n",
    "(Worker    ) Starting  \n",
    "(LockHolder) Holding  \n",
    "(LockHolder) Not holding  \n",
    "(Worker    ) Trying to acquire  \n",
    "(Worker    ) Iteration 1: Acquired  \n",
    "(LockHolder) Holding  \n",
    "(LockHolder) Not holding  \n",
    "(Worker    ) Trying to acquire  \n",
    "(LockHolder) Holding  \n",
    "(Worker    ) Iteration 2: Not acquired  \n",
    "(LockHolder) Not holding  \n",
    "(Worker    ) Trying to acquire  \n",
    "(Worker    ) Iteration 3: Acquired  \n",
    "(LockHolder) Holding  \n",
    "(LockHolder) Not holding  \n",
    "(Worker    ) Trying to acquire  \n",
    "(LockHolder) Holding  \n",
    "(Worker    ) Iteration 4: Not acquired  \n",
    "(LockHolder) Not holding  \n",
    "(Worker    ) Trying to acquire  \n",
    "(Worker    ) Iteration 5: Acquired  \n",
    "(Worker    ) Done after 5 iterations  \n",
    "(LockHolder) Holding``"
   ]
  },
  {
   "cell_type": "markdown",
   "metadata": {},
   "source": [
    "###Re-entrant Locks\n",
    "Normal **`Lock`** objects cannot be acquired more than once, even by the same thread. This can introduce undesirable side-effects if a lock is accessed by more than one function in the same call chain."
   ]
  },
  {
   "cell_type": "code",
   "execution_count": null,
   "metadata": {
    "collapsed": true
   },
   "outputs": [],
   "source": [
    "# %load threading_lock_reacquire.py\n",
    "import threading\n",
    "\n",
    "lock = threading.Lock()\n",
    "\n",
    "print 'First try :', lock.acquire()\n",
    "print 'Second try:', lock.acquire(0)\n"
   ]
  },
  {
   "cell_type": "markdown",
   "metadata": {},
   "source": [
    "In this case, since both functions are using the same global lock, and one calls the other, the second acquisition fails and would have blocked using the default arguments to **`acquire()`**.  \n",
    "  \n",
    "``$ python threading_lock_reacquire.py  \n",
    "First try : True  \n",
    "Second try: False`` "
   ]
  },
  {
   "cell_type": "markdown",
   "metadata": {},
   "source": [
    "In a situation where separate code from the same thread needs to \"re-acquire\" the lock, use an **`RLock`** instead."
   ]
  },
  {
   "cell_type": "code",
   "execution_count": null,
   "metadata": {
    "collapsed": true
   },
   "outputs": [],
   "source": [
    "# %load threading_rlock.py\n",
    "import threading\n",
    "\n",
    "lock = threading.RLock()\n",
    "\n",
    "print 'First try :', lock.acquire()\n",
    "print 'Second try:', lock.acquire(0)\n"
   ]
  },
  {
   "cell_type": "markdown",
   "metadata": {},
   "source": [
    "The only change to the code from the previous example was substituting **`RLock`** for **`Lock`**.  \n",
    "  \n",
    "``$ python threading_rlock.py  \n",
    "First try : True  \n",
    "Second try: 1``"
   ]
  },
  {
   "cell_type": "markdown",
   "metadata": {},
   "source": [
    "###Locks as Context Managers\n",
    "Locks implement the context mananger API and are compatible with **`with`** statement. Using **`with`** removes the need to explicitly acquire and release the lock."
   ]
  },
  {
   "cell_type": "code",
   "execution_count": null,
   "metadata": {
    "collapsed": true
   },
   "outputs": [],
   "source": [
    "# %load threading_lock_with.py\n",
    "import threading\n",
    "import logging\n",
    "import time\n",
    "\n",
    "logging.basicConfig(level=logging.DEBUG,\n",
    "                    format='(%(threadName)-10s) %(message)s',\n",
    "                    )\n",
    "\n",
    "def worker_with(lock):\n",
    "    with lock:\n",
    "        logging.debug('Lock acquired via with')\n",
    "        time.sleep(3)\n",
    "\n",
    "def worker_no_with(lock):\n",
    "    lock.acquire()\n",
    "    try:\n",
    "        logging.debug('Lock acquired directly')\n",
    "        time.sleep(2)\n",
    "    finally:\n",
    "        lock.release()\n",
    "\n",
    "lock = threading.Lock()\n",
    "w = threading.Thread(target=worker_with, args=(lock,))\n",
    "nw = threading.Thread(target=worker_no_with, args=(lock,))\n",
    "\n",
    "w.start()\n",
    "nw.start()\n"
   ]
  },
  {
   "cell_type": "markdown",
   "metadata": {},
   "source": [
    "The two functions **`worker_with()`** and **`worker_no_with()`** manager the lock in equivalent ways.  \n",
    "  \n",
    "``$ python threading_lock_with.py  \n",
    "(Thread-1  ) Lock acquired via with  \n",
    "(Thread-2  ) Lock acquired directly``"
   ]
  },
  {
   "cell_type": "markdown",
   "metadata": {},
   "source": [
    "##Synchronizing Threads\n",
    "In addition to using **`Events`**, another way of synchronizing threads is through using a **`Condition`** object. Because the **`Condition`** uses a **`Lock`**, it can be tied to a shared resource. This allows threads to wait for the resource to be updated. In this example, the **`consume()`** threads **`wait()`** for the **`Condition`** to be set before continuing. The **`producer()`** thread is responsible for setting the condition and notifying the other threads that they can continue."
   ]
  },
  {
   "cell_type": "code",
   "execution_count": null,
   "metadata": {
    "collapsed": true
   },
   "outputs": [],
   "source": [
    "# %load threading_condition.py\n",
    "import logging\n",
    "import threading\n",
    "import time\n",
    "\n",
    "logging.basicConfig(level=logging.DEBUG,\n",
    "                    format='%(asctime)s (%(threadName)-2s) %(message)s',\n",
    "                    )\n",
    "\n",
    "def consumer(cond):\n",
    "    \"\"\"wait for the condition and use the resource\"\"\"\n",
    "    logging.debug('Starting consumer thread')\n",
    "    t = threading.currentThread()\n",
    "    with cond:\n",
    "        cond.wait()\n",
    "        logging.debug('Resource is available to consumer')\n",
    "\n",
    "def producer(cond):\n",
    "    \"\"\"set up the resource to be used by the consumer\"\"\"\n",
    "    logging.debug('Starting producer thread')\n",
    "    with cond:\n",
    "        logging.debug('Making resource available')\n",
    "        cond.notifyAll()\n",
    "\n",
    "condition = threading.Condition()\n",
    "c1 = threading.Thread(name='c1', target=consumer, args=(condition,))\n",
    "c2 = threading.Thread(name='c2', target=consumer, args=(condition,))\n",
    "p = threading.Thread(name='p', target=producer, args=(condition,))\n",
    "\n",
    "c1.start()\n",
    "time.sleep(2)\n",
    "c2.start()\n",
    "time.sleep(2)\n",
    "p.start()\n"
   ]
  },
  {
   "cell_type": "markdown",
   "metadata": {},
   "source": [
    "The threads use **`with`** to acquire the lock associated with the **`Condition`**. Using the **`acquire()`** and **`release()`** methods explicitly also works.  \n",
    "  \n",
    "``$ python threading_condition.py  \n",
    "2015-06-27 17:07:55,552 (c1) Starting consumer thread  \n",
    "2015-06-27 17:07:57,557 (c2) Starting consumer thread  \n",
    "2015-06-27 17:07:59,558 (p ) Starting producer thread  \n",
    "2015-06-27 17:07:59,558 (p ) Making resource available  \n",
    "2015-06-27 17:07:59,559 (c2) Resource is available to consumer  \n",
    "2015-06-27 17:07:59,559 (c1) Resource is available to consumer``"
   ]
  },
  {
   "cell_type": "markdown",
   "metadata": {},
   "source": [
    "##Limiting Concurrent Access to Resources\n",
    "Sometimes it is useful to allow more than one worker access to a resource at a time, while still limiting the overall number. For example, a connection pool might support a fixed number of simultaneous connnections, or a network application might support a fixed number of concurrent downloads. A **`Semaphore`** is one way to manage those connections."
   ]
  },
  {
   "cell_type": "code",
   "execution_count": null,
   "metadata": {
    "collapsed": true
   },
   "outputs": [],
   "source": [
    "# %load threading_semaphore.py\n",
    "import logging\n",
    "import random\n",
    "import threading\n",
    "import time\n",
    "\n",
    "logging.basicConfig(level=logging.DEBUG,\n",
    "                    format='%(asctime)s (%(threadName)-2s) %(message)s',\n",
    "                    )\n",
    "\n",
    "class ActivePool(object):\n",
    "    def __init__(self):\n",
    "        super(ActivePool, self).__init__()\n",
    "        self.active = []\n",
    "        self.lock = threading.Lock()\n",
    "\n",
    "    def makeActive(self, name):\n",
    "        with self.lock:\n",
    "            self.active.append(name)\n",
    "            logging.debug('Running: %s', self.active)\n",
    "\n",
    "    def makeInactive(self, name):\n",
    "        with self.lock:\n",
    "            self.active.remove(name)\n",
    "            logging.debug('Running: %s', self.active)\n",
    "\n",
    "def worker(s, pool):\n",
    "    logging.debug('Waiting to join the pool')\n",
    "    with s:\n",
    "        name = threading.currentThread().getName()\n",
    "        pool.makeActive(name)\n",
    "        time.sleep(0.1)\n",
    "        pool.makeInactive(name)\n",
    "\n",
    "pool = ActivePool()\n",
    "s = threading.Semaphore(2)\n",
    "for i in range(4):\n",
    "    t = threading.Thread(target=worker, name=str(i), args=(s, pool))\n",
    "    t.start()\n"
   ]
  },
  {
   "cell_type": "markdown",
   "metadata": {},
   "source": [
    "In this example, the **`ActivePool`** class simply serves as a convenient way to track which threads are able to run at a given moment. A real resource pool would allocate a connection or some other value to the newly active thread, and reclaim the value when the thread is done. Here it is just used to hold the names of the active threads to show the that only five are running concurrently.  \n",
    "  \n",
    "``$ python threading_semaphore.py  \n",
    "2015-06-27 17:15:56,441 (0 ) Waiting to join the pool  \n",
    "2015-06-27 17:15:56,442 (0 ) Running: ['0']  \n",
    "2015-06-27 17:15:56,443 (1 ) Waiting to join the pool  \n",
    "2015-06-27 17:15:56,443 (1 ) Running: ['0', '1']  \n",
    "2015-06-27 17:15:56,443 (2 ) Waiting to join the pool  \n",
    "2015-06-27 17:15:56,443 (3 ) Waiting to join the pool  \n",
    "2015-06-27 17:15:56,548 (1 ) Running: ['0']  \n",
    "2015-06-27 17:15:56,548 (0 ) Running: []  \n",
    "2015-06-27 17:15:56,549 (2 ) Running: ['2']  \n",
    "2015-06-27 17:15:56,549 (3 ) Running: ['2', '3']  \n",
    "2015-06-27 17:15:56,654 (2 ) Running: ['3']  \n",
    "2015-06-27 17:15:56,655 (3 ) Running: []``"
   ]
  },
  {
   "cell_type": "markdown",
   "metadata": {},
   "source": [
    "##Thread-specific Data\n",
    "While some resources need to be locked so multiple threads can use them, others need to be protected so that they are hidded from view in threads that do not \"own\" them. The **`local()`** function creates an object capable of hiding values from view in separate threads."
   ]
  },
  {
   "cell_type": "code",
   "execution_count": 18,
   "metadata": {
    "collapsed": true
   },
   "outputs": [],
   "source": [
    "# %load threading_local.py\n",
    "import random\n",
    "import threading\n",
    "import logging\n",
    "logging.basicConfig(level=logging.DEBUG,\n",
    "                    format='(%(threadName)-10s) %(message)s',\n",
    "                    )\n",
    "\n",
    "def show_value(data):\n",
    "    try:\n",
    "        val = data.value\n",
    "    except AttributeError:\n",
    "        logging.debug('No value yet')\n",
    "    else:\n",
    "        logging.debug('value=%s', val)\n",
    "\n",
    "def worker(data):\n",
    "    show_value(data)\n",
    "    data.value = random.randint(1, 100)\n",
    "    show_value(data)\n",
    "\n",
    "local_data = threading.local()\n",
    "show_value(local_data)\n",
    "local_data.value = 1000\n",
    "show_value(local_data)\n",
    "\n",
    "for i in range(2):\n",
    "    t = threading.Thread(target=worker, args=(local_data,))\n",
    "    t.start()\n"
   ]
  },
  {
   "cell_type": "markdown",
   "metadata": {},
   "source": [
    "Notice that `local_data.value` is not present for any thread until it is set in that thread.  \n",
    "  \n",
    "``$ python threading_local.py  \n",
    "(MainThread) No value yet  \n",
    "(MainThread) value=1000  \n",
    "(Thread-1  ) No value yet  \n",
    "(Thread-1  ) value=60  \n",
    "(Thread-2  ) No value yet  \n",
    "(Thread-2  ) value=58``"
   ]
  },
  {
   "cell_type": "markdown",
   "metadata": {},
   "source": [
    "To initialize the settings so all threads start with the same value, use a subclass and set the attributes in **`__init__()`**."
   ]
  },
  {
   "cell_type": "code",
   "execution_count": null,
   "metadata": {
    "collapsed": true
   },
   "outputs": [],
   "source": [
    "# %load threading_local_defaults.py\n",
    "import random\n",
    "import threading\n",
    "import logging\n",
    "\n",
    "logging.basicConfig(level=logging.DEBUG,\n",
    "                    format='(%(threadName)-10s) %(message)s',\n",
    "                    )\n",
    "\n",
    "def show_value(data):\n",
    "    try:\n",
    "        val = data.value\n",
    "    except AttributeError:\n",
    "        logging.debug('No value yet')\n",
    "    else:\n",
    "        logging.debug('value=%s', val)\n",
    "\n",
    "def worker(data):\n",
    "    show_value(data)\n",
    "    data.value = random.randint(1,100)\n",
    "    show_value(data)\n",
    "\n",
    "class MyLocal(threading.local):\n",
    "    def __init__(self, value):\n",
    "        logging.debug('Initializing %r', self)\n",
    "        self.value = value\n",
    "\n",
    "local_data = MyLocal(1000)\n",
    "show_value(local_data)\n",
    "\n",
    "for i in range(2):\n",
    "    t = threading.Thread(target=worker, args=(local_data,))\n",
    "    t.start()\n",
    "\n",
    "show_value(local_data)\n"
   ]
  },
  {
   "cell_type": "markdown",
   "metadata": {},
   "source": [
    "**`__init__()`** is invoked on the same object (note the **`id()`** value), once in each thread.  \n",
    "  \n",
    "``$ python threading_local_defaults.py\n",
    "(MainThread) Initializing <__main__.MyLocal object at 0x10ae0de20>\n",
    "(MainThread) value=1000 \n",
    "(Thread-1  ) Initializing <__main__.MyLocal object at 0x10ae0de20>  \n",
    "(Thread-1  ) value=1000  \n",
    "(Thread-1  ) value=58  \n",
    "(Thread-2  ) Initializing <__main__.MyLocal object at 0x10ae0de20>  \n",
    "(MainThread) value=1000  \n",
    "(Thread-2  ) value=1000  \n",
    "(Thread-2  ) value=77``"
   ]
  }
 ],
 "metadata": {
  "kernelspec": {
   "display_name": "Python 2",
   "language": "python",
   "name": "python2"
  },
  "language_info": {
   "codemirror_mode": {
    "name": "ipython",
    "version": 2
   },
   "file_extension": ".py",
   "mimetype": "text/x-python",
   "name": "python",
   "nbconvert_exporter": "python",
   "pygments_lexer": "ipython2",
   "version": "2.7.6"
  }
 },
 "nbformat": 4,
 "nbformat_minor": 0
}
